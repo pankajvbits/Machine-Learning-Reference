{
 "cells": [
  {
   "cell_type": "code",
   "execution_count": 1,
   "metadata": {
    "collapsed": true
   },
   "outputs": [],
   "source": [
    "import pandas as pd\n",
    "import numpy as np\n",
    "import matplotlib.pyplot as plt\n",
    "import seaborn as sns\n",
    "import os\n",
    "import pylab\n",
    "import statsmodels.api as sm\n",
    "from pprint import pprint as pp\n",
    "%matplotlib inline"
   ]
  },
  {
   "cell_type": "code",
   "execution_count": 3,
   "metadata": {
    "collapsed": true
   },
   "outputs": [],
   "source": [
    "from scipy import stats\n",
    "from sklearn.preprocessing import Imputer\n",
    "from sklearn.preprocessing import LabelEncoder, OneHotEncoder, StandardScaler, Normalizer\n",
    "from sklearn.model_selection import train_test_split, cross_val_score, GridSearchCV\n",
    "from sklearn.ensemble import RandomForestClassifier, BaggingClassifier, VotingClassifier, AdaBoostClassifier, GradientBoostingClassifier, ExtraTreesClassifier\n",
    "from sklearn.naive_bayes import GaussianNB\n",
    "from sklearn.tree import DecisionTreeClassifier\n",
    "from sklearn.neighbors import KNeighborsClassifier\n",
    "from sklearn.linear_model import LogisticRegression\n",
    "from catboost import CatBoostClassifier\n",
    "from xgboost import XGBClassifier\n",
    "from sklearn.metrics import accuracy_score\n",
    "from sklearn.metrics import f1_score"
   ]
  },
  {
   "cell_type": "code",
   "execution_count": null,
   "metadata": {
    "collapsed": true
   },
   "outputs": [],
   "source": [
    "df_train = pd.read_csv(\"train.csv\")\n",
    "df_test = pd.read_csv(\"test.csv\")"
   ]
  },
  {
   "cell_type": "code",
   "execution_count": null,
   "metadata": {
    "collapsed": true
   },
   "outputs": [],
   "source": [
    "def avg_training_score_grading(x):\n",
    "    grade = 0;\n",
    "    if x < 59 :\n",
    "        grade = 0\n",
    "    elif x < 79:\n",
    "        grade = 1\n",
    "    else :\n",
    "        grade = 2\n",
    "    return grade    "
   ]
  },
  {
   "cell_type": "code",
   "execution_count": null,
   "metadata": {
    "collapsed": true
   },
   "outputs": [],
   "source": [
    "def no_of_trainings_grade(x):\n",
    "    grade = 0\n",
    "    if x <= 5:\n",
    "        grade = 0\n",
    "    elif x <= 7:\n",
    "        grade = 1\n",
    "    else :\n",
    "        grade = 2\n",
    "    return grade   "
   ]
  },
  {
   "cell_type": "code",
   "execution_count": null,
   "metadata": {
    "collapsed": true
   },
   "outputs": [],
   "source": [
    "def education_encode(x):\n",
    "    x = str(x)\n",
    "    x = ''.join(list(x)[0:4])\n",
    "    grade = np.NaN\n",
    "    if x[0:4] == 'Bach':\n",
    "        grade = 1\n",
    "    elif x[0:4] == 'Mast':\n",
    "        grade = 2\n",
    "    elif x[0:4] == 'Belo':\n",
    "        grade = 0\n",
    "    return grade "
   ]
  },
  {
   "cell_type": "code",
   "execution_count": null,
   "metadata": {
    "collapsed": true
   },
   "outputs": [],
   "source": [
    "def region_encode(x):\n",
    "    return int(x[len('region_'):])"
   ]
  },
  {
   "cell_type": "code",
   "execution_count": null,
   "metadata": {
    "collapsed": true
   },
   "outputs": [],
   "source": [
    "def age_bining(x):\n",
    "    x = int(x)\n",
    "    x = (x//3)*3\n",
    "    return x\n",
    "    "
   ]
  },
  {
   "cell_type": "code",
   "execution_count": null,
   "metadata": {
    "collapsed": true
   },
   "outputs": [],
   "source": [
    "df_train['age'] = df_train['age'].apply(age_bining)\n",
    "df_test['age'] = df_test['age'].apply(age_bining)"
   ]
  },
  {
   "cell_type": "code",
   "execution_count": null,
   "metadata": {
    "collapsed": true
   },
   "outputs": [],
   "source": [
    "df_train['region'] = df_train['region'].apply(region_encode)\n",
    "df_test['region'] = df_test['region'].apply(region_encode)"
   ]
  },
  {
   "cell_type": "code",
   "execution_count": null,
   "metadata": {
    "collapsed": true
   },
   "outputs": [],
   "source": [
    "df_train['no_of_trainings'] = df_train['no_of_trainings'].apply(no_of_trainings_grade)\n",
    "df_test['no_of_trainings'] = df_test['no_of_trainings'].apply(no_of_trainings_grade)"
   ]
  },
  {
   "cell_type": "code",
   "execution_count": null,
   "metadata": {
    "collapsed": true
   },
   "outputs": [],
   "source": [
    "df_train['avg_training_score'] = df_train['avg_training_score'].apply(avg_training_score_grading)\n",
    "df_test['avg_training_score'] = df_test['avg_training_score'].apply(avg_training_score_grading)"
   ]
  },
  {
   "cell_type": "code",
   "execution_count": null,
   "metadata": {
    "collapsed": true
   },
   "outputs": [],
   "source": [
    "df_train['education'] = df_train['education'].apply(education_encode)\n",
    "df_test['education'] = df_test['education'].apply(education_encode)"
   ]
  },
  {
   "cell_type": "code",
   "execution_count": null,
   "metadata": {
    "collapsed": true
   },
   "outputs": [],
   "source": [
    "imputer = Imputer(missing_values='NaN', strategy=\"most_frequent\", axis=0)\n",
    "train_previous_year_rating = imputer.fit_transform(df_train.previous_year_rating.values.reshape(-1, 1))\n",
    "df_train['previous_year_rating'] = train_previous_year_rating\n",
    "test_previous_year_rating = imputer.transform(df_test.previous_year_rating.values.reshape(-1, 1))\n",
    "df_test['previous_year_rating'] = test_previous_year_rating"
   ]
  },
  {
   "cell_type": "code",
   "execution_count": null,
   "metadata": {
    "collapsed": true
   },
   "outputs": [],
   "source": [
    "df_train['education'] = df_train['education'].replace(r'', np.NaN)\n",
    "df_test['education'] = df_test['education'].replace(r'', np.NaN)"
   ]
  },
  {
   "cell_type": "code",
   "execution_count": null,
   "metadata": {
    "collapsed": true
   },
   "outputs": [],
   "source": [
    "df_train['education'] = df_train['education'].astype(object)\n",
    "df_test['education'] = df_test['education'].astype(object)"
   ]
  },
  {
   "cell_type": "code",
   "execution_count": null,
   "metadata": {
    "collapsed": true
   },
   "outputs": [],
   "source": [
    "imputer = Imputer(missing_values='NaN', strategy=\"most_frequent\", axis=0)\n",
    "train_education_filled = imputer.fit_transform(df_train.education.values.reshape(-1, 1))\n",
    "df_train['education'] = train_education_filled\n",
    "test_education_filled = imputer.transform(df_test.education.values.reshape(-1, 1))\n",
    "df_test['education'] = test_education_filled"
   ]
  },
  {
   "cell_type": "code",
   "execution_count": null,
   "metadata": {
    "collapsed": false
   },
   "outputs": [],
   "source": [
    "dict_labelencode={}\n",
    "for col in ['department', 'region', 'gender', 'recruitment_channel', 'no_of_trainings', 'awards_won?', 'age', \n",
    "                    'length_of_service', 'KPIs_met >80%', 'avg_training_score', \n",
    "                    'previous_year_rating', 'education']:\n",
    "#for col in ['department', 'gender', 'recruitment_channel']:\n",
    "    le = LabelEncoder()\n",
    "    df_train[col] = le.fit_transform(df_train[col])\n",
    "    df_test[col] = le.transform(df_test[col])\n",
    "    dict_labelencode[col] = le.classes_\n",
    "    print(\"One hot encoding  for -----> \", col)                \n",
    "    onehotencoder = OneHotEncoder(categorical_features = 'all')\n",
    "    dummy_var = onehotencoder.fit_transform(df_train[col].values.reshape(-1,1)).toarray()\n",
    "    valueList = dict_labelencode[col]\n",
    "    i = 0 \n",
    "    for value in valueList:\n",
    "        print(\"One hot encoding  for value-----> \", value) \n",
    "        newcolumn = col + str(\"_\") + str(value)\n",
    "        print(\"One hot encoding  for label class -----> \", newcolumn)\n",
    "        df_train[newcolumn] = dummy_var[:, i]\n",
    "        if i == 0:\n",
    "            df_train = df_train.drop([newcolumn], axis=1) \n",
    "            print(\"new dropped column -----> \", newcolumn)\n",
    "        i = i+1      \n",
    "    df_train = df_train.drop([col], axis=1)\n",
    "    print(\"dropped column -----> \", col)\n",
    "    print(\"############## test data ###################\")\n",
    "    dummy_var = onehotencoder.transform(df_test[col].values.reshape(-1,1)).toarray()\n",
    "    valueList = dict_labelencode[col]\n",
    "    i = 0 \n",
    "    for value in valueList:\n",
    "        print(\"test One hot encoding  for value-----> \", value) \n",
    "        newcolumn = col + str(\"_\") + str(value)\n",
    "        print(\"test One hot encoding  for label class -----> \", newcolumn)\n",
    "        df_test[newcolumn] = dummy_var[:, i]\n",
    "        if i == 0:\n",
    "            df_test = df_test.drop([newcolumn], axis=1) \n",
    "            print(\"new test dropped column -----> \", newcolumn)\n",
    "        i = i+1  \n",
    "    df_test = df_test.drop([col], axis=1)\n",
    "    print(\"test dropped column -----> \", col)\n",
    "    \n",
    "    #df_test = df_test.drop([col], axis=1)"
   ]
  },
  {
   "cell_type": "code",
   "execution_count": null,
   "metadata": {
    "collapsed": false
   },
   "outputs": [],
   "source": [
    "trainlist = df_train.columns\n",
    "trainlist = trainlist.drop(['employee_id', 'is_promoted'])\n",
    "testlist = df_test.columns\n",
    "testlist = testlist.drop(['employee_id'])"
   ]
  },
  {
   "cell_type": "code",
   "execution_count": null,
   "metadata": {
    "collapsed": true
   },
   "outputs": [],
   "source": [
    "X1 = df_train.loc[:,trainlist].values\n",
    "y1 = df_train.loc[:,['is_promoted']].values\n",
    "#y_train = df_train.loc[:,['is_promoted']].values\n",
    "\n",
    "X2 = df_test.loc[:,testlist].values"
   ]
  },
  {
   "cell_type": "code",
   "execution_count": null,
   "metadata": {
    "collapsed": true
   },
   "outputs": [],
   "source": [
    "X_train, X_test, y_train, y_test = train_test_split(X1, y1, test_size = 0.05, random_state = 0)"
   ]
  },
  {
   "cell_type": "code",
   "execution_count": null,
   "metadata": {
    "collapsed": false
   },
   "outputs": [],
   "source": [
    "df_train.describe()"
   ]
  },
  {
   "cell_type": "markdown",
   "metadata": {},
   "source": [
    "# Decision Tree Classifier"
   ]
  },
  {
   "cell_type": "code",
   "execution_count": null,
   "metadata": {
    "collapsed": false
   },
   "outputs": [],
   "source": [
    "clf_tree=DecisionTreeClassifier(criterion='entropy', max_depth=50, min_samples_split=10)\n",
    "bag_classifier = BaggingClassifier(base_estimator=clf_tree, n_estimators=90)\n",
    "bag_classifier.fit(X_train, y_train)"
   ]
  },
  {
   "cell_type": "code",
   "execution_count": null,
   "metadata": {
    "collapsed": false
   },
   "outputs": [],
   "source": [
    "bg_y_pred = bag_classifier.predict(X_test)\n",
    "print(accuracy_score(y_test, bg_y_pred))\n",
    "print(f1_score(y_test, bg_y_pred))"
   ]
  },
  {
   "cell_type": "code",
   "execution_count": 84,
   "metadata": {
    "collapsed": true
   },
   "outputs": [],
   "source": [
    "bg_y_pred2 = bag_classifier.predict(X2)\n",
    "df_test['is_promoted'] = bg_y_pred2\n",
    "header = ['employee_id', 'is_promoted']\n",
    "df_test[header].to_csv('bag_submission.csv', columns = header, index=False)"
   ]
  }
 ],
 "metadata": {
  "kernelspec": {
   "display_name": "Python 3",
   "language": "python",
   "name": "python3"
  },
  "language_info": {
   "codemirror_mode": {
    "name": "ipython",
    "version": 3
   },
   "file_extension": ".py",
   "mimetype": "text/x-python",
   "name": "python",
   "nbconvert_exporter": "python",
   "pygments_lexer": "ipython3",
   "version": "3.6.0"
  }
 },
 "nbformat": 4,
 "nbformat_minor": 2
}

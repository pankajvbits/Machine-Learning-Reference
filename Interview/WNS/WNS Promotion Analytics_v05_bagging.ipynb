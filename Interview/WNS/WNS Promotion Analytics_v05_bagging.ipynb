{
 "cells": [
  {
   "cell_type": "code",
   "execution_count": 5,
   "metadata": {
    "collapsed": true
   },
   "outputs": [],
   "source": [
    "import pandas as pd\n",
    "import numpy as np\n",
    "import matplotlib.pyplot as plt\n",
    "import seaborn as sns\n",
    "import os\n",
    "import pylab\n",
    "import statsmodels.api as sm\n",
    "from pprint import pprint as pp\n",
    "%matplotlib inline"
   ]
  },
  {
   "cell_type": "code",
   "execution_count": 6,
   "metadata": {
    "collapsed": true
   },
   "outputs": [],
   "source": [
    "from scipy import stats\n",
    "from sklearn.preprocessing import Imputer\n",
    "from sklearn.preprocessing import LabelEncoder, OneHotEncoder, StandardScaler, Normalizer\n",
    "from sklearn.model_selection import train_test_split, cross_val_score, GridSearchCV\n",
    "from sklearn.ensemble import RandomForestClassifier, BaggingClassifier, VotingClassifier, AdaBoostClassifier, GradientBoostingClassifier, ExtraTreesClassifier\n",
    "from sklearn.naive_bayes import GaussianNB\n",
    "from sklearn.tree import DecisionTreeClassifier\n",
    "from sklearn.neighbors import KNeighborsClassifier\n",
    "from sklearn.linear_model import LogisticRegression\n",
    "from xgboost import XGBClassifier\n",
    "from sklearn.metrics import accuracy_score\n",
    "from sklearn.metrics import f1_score"
   ]
  },
  {
   "cell_type": "code",
   "execution_count": 7,
   "metadata": {
    "collapsed": true
   },
   "outputs": [],
   "source": [
    "df_train = pd.read_csv(\"train.csv\")\n",
    "df_test = pd.read_csv(\"test.csv\")"
   ]
  },
  {
   "cell_type": "code",
   "execution_count": 8,
   "metadata": {
    "collapsed": true
   },
   "outputs": [],
   "source": [
    "def avg_training_score_grading(x):\n",
    "    grade = 0;\n",
    "    if x < 59 :\n",
    "        grade = 0\n",
    "    elif x < 79:\n",
    "        grade = 1\n",
    "    else :\n",
    "        grade = 2\n",
    "    return grade    "
   ]
  },
  {
   "cell_type": "code",
   "execution_count": 9,
   "metadata": {
    "collapsed": true
   },
   "outputs": [],
   "source": [
    "def no_of_trainings_grade(x):\n",
    "    grade = 0\n",
    "    if x <= 5:\n",
    "        grade = 0\n",
    "    elif x <= 7:\n",
    "        grade = 1\n",
    "    else :\n",
    "        grade = 2\n",
    "    return grade   "
   ]
  },
  {
   "cell_type": "code",
   "execution_count": 10,
   "metadata": {
    "collapsed": true
   },
   "outputs": [],
   "source": [
    "def education_encode(x):\n",
    "    x = str(x)\n",
    "    x = ''.join(list(x)[0:4])\n",
    "    grade = np.NaN\n",
    "    if x[0:4] == 'Bach':\n",
    "        grade = 1\n",
    "    elif x[0:4] == 'Mast':\n",
    "        grade = 2\n",
    "    elif x[0:4] == 'Belo':\n",
    "        grade = 0\n",
    "    return grade "
   ]
  },
  {
   "cell_type": "code",
   "execution_count": 11,
   "metadata": {
    "collapsed": true
   },
   "outputs": [],
   "source": [
    "def region_encode(x):\n",
    "    return int(x[len('region_'):])"
   ]
  },
  {
   "cell_type": "code",
   "execution_count": 12,
   "metadata": {
    "collapsed": true
   },
   "outputs": [],
   "source": [
    "def age_bining(x):\n",
    "    x = int(x)\n",
    "    x = (x//5)*5\n",
    "    return x    "
   ]
  },
  {
   "cell_type": "code",
   "execution_count": 13,
   "metadata": {
    "collapsed": true
   },
   "outputs": [],
   "source": [
    "df_train['age'] = df_train['age'].apply(age_bining)\n",
    "df_test['age'] = df_test['age'].apply(age_bining)"
   ]
  },
  {
   "cell_type": "code",
   "execution_count": 14,
   "metadata": {
    "collapsed": true
   },
   "outputs": [],
   "source": [
    "df_train['region'] = df_train['region'].apply(region_encode)\n",
    "df_test['region'] = df_test['region'].apply(region_encode)"
   ]
  },
  {
   "cell_type": "code",
   "execution_count": 15,
   "metadata": {
    "collapsed": true
   },
   "outputs": [],
   "source": [
    "df_train['no_of_trainings'] = df_train['no_of_trainings'].apply(no_of_trainings_grade)\n",
    "df_test['no_of_trainings'] = df_test['no_of_trainings'].apply(no_of_trainings_grade)"
   ]
  },
  {
   "cell_type": "code",
   "execution_count": 16,
   "metadata": {
    "collapsed": true
   },
   "outputs": [],
   "source": [
    "df_train['avg_training_score'] = df_train['avg_training_score'].apply(avg_training_score_grading)\n",
    "df_test['avg_training_score'] = df_test['avg_training_score'].apply(avg_training_score_grading)"
   ]
  },
  {
   "cell_type": "code",
   "execution_count": 17,
   "metadata": {
    "collapsed": true
   },
   "outputs": [],
   "source": [
    "df_train['education'] = df_train['education'].apply(education_encode)\n",
    "df_test['education'] = df_test['education'].apply(education_encode)"
   ]
  },
  {
   "cell_type": "code",
   "execution_count": 18,
   "metadata": {
    "collapsed": true
   },
   "outputs": [],
   "source": [
    "imputer = Imputer(missing_values='NaN', strategy=\"most_frequent\", axis=0)\n",
    "train_previous_year_rating = imputer.fit_transform(df_train.previous_year_rating.values.reshape(-1, 1))\n",
    "df_train['previous_year_rating'] = train_previous_year_rating\n",
    "test_previous_year_rating = imputer.transform(df_test.previous_year_rating.values.reshape(-1, 1))\n",
    "df_test['previous_year_rating'] = test_previous_year_rating"
   ]
  },
  {
   "cell_type": "code",
   "execution_count": 19,
   "metadata": {
    "collapsed": true
   },
   "outputs": [],
   "source": [
    "df_train['education'] = df_train['education'].replace(r'', np.NaN)\n",
    "df_test['education'] = df_test['education'].replace(r'', np.NaN)"
   ]
  },
  {
   "cell_type": "code",
   "execution_count": 20,
   "metadata": {
    "collapsed": true
   },
   "outputs": [],
   "source": [
    "df_train['education'] = df_train['education'].astype(object)\n",
    "df_test['education'] = df_test['education'].astype(object)"
   ]
  },
  {
   "cell_type": "code",
   "execution_count": 21,
   "metadata": {
    "collapsed": true
   },
   "outputs": [],
   "source": [
    "imputer = Imputer(missing_values='NaN', strategy=\"most_frequent\", axis=0)\n",
    "train_education_filled = imputer.fit_transform(df_train.education.values.reshape(-1, 1))\n",
    "df_train['education'] = train_education_filled\n",
    "test_education_filled = imputer.transform(df_test.education.values.reshape(-1, 1))\n",
    "df_test['education'] = test_education_filled"
   ]
  },
  {
   "cell_type": "code",
   "execution_count": 22,
   "metadata": {
    "collapsed": false
   },
   "outputs": [
    {
     "name": "stdout",
     "output_type": "stream",
     "text": [
      "One hot encoding  for ----->  department\n",
      "One hot encoding  for value----->  Analytics\n",
      "One hot encoding  for label class ----->  department_Analytics\n",
      "One hot encoding  for value----->  Finance\n",
      "One hot encoding  for label class ----->  department_Finance\n",
      "One hot encoding  for value----->  HR\n",
      "One hot encoding  for label class ----->  department_HR\n",
      "One hot encoding  for value----->  Legal\n",
      "One hot encoding  for label class ----->  department_Legal\n",
      "One hot encoding  for value----->  Operations\n",
      "One hot encoding  for label class ----->  department_Operations\n",
      "One hot encoding  for value----->  Procurement\n",
      "One hot encoding  for label class ----->  department_Procurement\n",
      "One hot encoding  for value----->  R&D\n",
      "One hot encoding  for label class ----->  department_R&D\n",
      "One hot encoding  for value----->  Sales & Marketing\n",
      "One hot encoding  for label class ----->  department_Sales & Marketing\n",
      "One hot encoding  for value----->  Technology\n",
      "One hot encoding  for label class ----->  department_Technology\n",
      "dropped column ----->  department_Technology department\n",
      "############## test data ###################\n",
      "test One hot encoding  for value----->  Analytics\n",
      "test One hot encoding  for label class ----->  department_Analytics\n",
      "test One hot encoding  for value----->  Finance\n",
      "test One hot encoding  for label class ----->  department_Finance\n",
      "test One hot encoding  for value----->  HR\n",
      "test One hot encoding  for label class ----->  department_HR\n",
      "test One hot encoding  for value----->  Legal\n",
      "test One hot encoding  for label class ----->  department_Legal\n",
      "test One hot encoding  for value----->  Operations\n",
      "test One hot encoding  for label class ----->  department_Operations\n",
      "test One hot encoding  for value----->  Procurement\n",
      "test One hot encoding  for label class ----->  department_Procurement\n",
      "test One hot encoding  for value----->  R&D\n",
      "test One hot encoding  for label class ----->  department_R&D\n",
      "test One hot encoding  for value----->  Sales & Marketing\n",
      "test One hot encoding  for label class ----->  department_Sales & Marketing\n",
      "test One hot encoding  for value----->  Technology\n",
      "test One hot encoding  for label class ----->  department_Technology\n",
      "test dropped column ----->  department_Technology department\n",
      "One hot encoding  for ----->  region\n",
      "One hot encoding  for value----->  1\n",
      "One hot encoding  for label class ----->  region_1\n",
      "One hot encoding  for value----->  2\n",
      "One hot encoding  for label class ----->  region_2\n",
      "One hot encoding  for value----->  3\n",
      "One hot encoding  for label class ----->  region_3\n",
      "One hot encoding  for value----->  4\n",
      "One hot encoding  for label class ----->  region_4\n",
      "One hot encoding  for value----->  5\n",
      "One hot encoding  for label class ----->  region_5\n",
      "One hot encoding  for value----->  6\n",
      "One hot encoding  for label class ----->  region_6\n",
      "One hot encoding  for value----->  7\n",
      "One hot encoding  for label class ----->  region_7\n",
      "One hot encoding  for value----->  8\n",
      "One hot encoding  for label class ----->  region_8\n",
      "One hot encoding  for value----->  9\n",
      "One hot encoding  for label class ----->  region_9\n",
      "One hot encoding  for value----->  10\n",
      "One hot encoding  for label class ----->  region_10\n",
      "One hot encoding  for value----->  11\n",
      "One hot encoding  for label class ----->  region_11\n",
      "One hot encoding  for value----->  12\n",
      "One hot encoding  for label class ----->  region_12\n",
      "One hot encoding  for value----->  13\n",
      "One hot encoding  for label class ----->  region_13\n",
      "One hot encoding  for value----->  14\n",
      "One hot encoding  for label class ----->  region_14\n",
      "One hot encoding  for value----->  15\n",
      "One hot encoding  for label class ----->  region_15\n",
      "One hot encoding  for value----->  16\n",
      "One hot encoding  for label class ----->  region_16\n",
      "One hot encoding  for value----->  17\n",
      "One hot encoding  for label class ----->  region_17\n",
      "One hot encoding  for value----->  18\n",
      "One hot encoding  for label class ----->  region_18\n",
      "One hot encoding  for value----->  19\n",
      "One hot encoding  for label class ----->  region_19\n",
      "One hot encoding  for value----->  20\n",
      "One hot encoding  for label class ----->  region_20\n",
      "One hot encoding  for value----->  21\n",
      "One hot encoding  for label class ----->  region_21\n",
      "One hot encoding  for value----->  22\n",
      "One hot encoding  for label class ----->  region_22\n",
      "One hot encoding  for value----->  23\n",
      "One hot encoding  for label class ----->  region_23\n",
      "One hot encoding  for value----->  24\n",
      "One hot encoding  for label class ----->  region_24\n",
      "One hot encoding  for value----->  25\n",
      "One hot encoding  for label class ----->  region_25\n",
      "One hot encoding  for value----->  26\n",
      "One hot encoding  for label class ----->  region_26\n",
      "One hot encoding  for value----->  27\n",
      "One hot encoding  for label class ----->  region_27\n",
      "One hot encoding  for value----->  28\n",
      "One hot encoding  for label class ----->  region_28\n",
      "One hot encoding  for value----->  29\n",
      "One hot encoding  for label class ----->  region_29\n",
      "One hot encoding  for value----->  30\n",
      "One hot encoding  for label class ----->  region_30\n",
      "One hot encoding  for value----->  31\n",
      "One hot encoding  for label class ----->  region_31\n",
      "One hot encoding  for value----->  32\n",
      "One hot encoding  for label class ----->  region_32\n",
      "One hot encoding  for value----->  33\n",
      "One hot encoding  for label class ----->  region_33\n",
      "One hot encoding  for value----->  34\n",
      "One hot encoding  for label class ----->  region_34\n",
      "dropped column ----->  region_34 region\n",
      "############## test data ###################\n",
      "test One hot encoding  for value----->  1\n",
      "test One hot encoding  for label class ----->  region_1\n",
      "test One hot encoding  for value----->  2\n",
      "test One hot encoding  for label class ----->  region_2\n",
      "test One hot encoding  for value----->  3\n",
      "test One hot encoding  for label class ----->  region_3\n",
      "test One hot encoding  for value----->  4\n",
      "test One hot encoding  for label class ----->  region_4\n",
      "test One hot encoding  for value----->  5\n",
      "test One hot encoding  for label class ----->  region_5\n",
      "test One hot encoding  for value----->  6\n",
      "test One hot encoding  for label class ----->  region_6\n",
      "test One hot encoding  for value----->  7\n",
      "test One hot encoding  for label class ----->  region_7\n",
      "test One hot encoding  for value----->  8\n",
      "test One hot encoding  for label class ----->  region_8\n",
      "test One hot encoding  for value----->  9\n",
      "test One hot encoding  for label class ----->  region_9\n",
      "test One hot encoding  for value----->  10\n",
      "test One hot encoding  for label class ----->  region_10\n",
      "test One hot encoding  for value----->  11\n",
      "test One hot encoding  for label class ----->  region_11\n",
      "test One hot encoding  for value----->  12\n",
      "test One hot encoding  for label class ----->  region_12\n",
      "test One hot encoding  for value----->  13\n",
      "test One hot encoding  for label class ----->  region_13\n",
      "test One hot encoding  for value----->  14\n",
      "test One hot encoding  for label class ----->  region_14\n",
      "test One hot encoding  for value----->  15\n",
      "test One hot encoding  for label class ----->  region_15\n",
      "test One hot encoding  for value----->  16\n",
      "test One hot encoding  for label class ----->  region_16\n",
      "test One hot encoding  for value----->  17\n",
      "test One hot encoding  for label class ----->  region_17\n",
      "test One hot encoding  for value----->  18\n",
      "test One hot encoding  for label class ----->  region_18\n",
      "test One hot encoding  for value----->  19\n",
      "test One hot encoding  for label class ----->  region_19\n",
      "test One hot encoding  for value----->  20\n",
      "test One hot encoding  for label class ----->  region_20\n",
      "test One hot encoding  for value----->  21\n",
      "test One hot encoding  for label class ----->  region_21\n",
      "test One hot encoding  for value----->  22\n",
      "test One hot encoding  for label class ----->  region_22\n",
      "test One hot encoding  for value----->  23\n",
      "test One hot encoding  for label class ----->  region_23\n",
      "test One hot encoding  for value----->  24\n",
      "test One hot encoding  for label class ----->  region_24\n",
      "test One hot encoding  for value----->  25\n",
      "test One hot encoding  for label class ----->  region_25\n",
      "test One hot encoding  for value----->  26\n",
      "test One hot encoding  for label class ----->  region_26\n",
      "test One hot encoding  for value----->  27\n",
      "test One hot encoding  for label class ----->  region_27\n",
      "test One hot encoding  for value----->  28\n",
      "test One hot encoding  for label class ----->  region_28\n",
      "test One hot encoding  for value----->  29\n",
      "test One hot encoding  for label class ----->  region_29\n",
      "test One hot encoding  for value----->  30\n",
      "test One hot encoding  for label class ----->  region_30\n",
      "test One hot encoding  for value----->  31\n",
      "test One hot encoding  for label class ----->  region_31\n",
      "test One hot encoding  for value----->  32\n",
      "test One hot encoding  for label class ----->  region_32\n",
      "test One hot encoding  for value----->  33\n",
      "test One hot encoding  for label class ----->  region_33\n",
      "test One hot encoding  for value----->  34\n",
      "test One hot encoding  for label class ----->  region_34\n",
      "test dropped column ----->  region_34 region\n",
      "One hot encoding  for ----->  gender\n",
      "One hot encoding  for value----->  f\n",
      "One hot encoding  for label class ----->  gender_f\n",
      "One hot encoding  for value----->  m\n",
      "One hot encoding  for label class ----->  gender_m\n",
      "dropped column ----->  gender_m gender\n",
      "############## test data ###################\n",
      "test One hot encoding  for value----->  f\n",
      "test One hot encoding  for label class ----->  gender_f\n",
      "test One hot encoding  for value----->  m\n",
      "test One hot encoding  for label class ----->  gender_m\n",
      "test dropped column ----->  gender_m gender\n",
      "One hot encoding  for ----->  recruitment_channel\n",
      "One hot encoding  for value----->  other\n",
      "One hot encoding  for label class ----->  recruitment_channel_other\n",
      "One hot encoding  for value----->  referred\n",
      "One hot encoding  for label class ----->  recruitment_channel_referred\n",
      "One hot encoding  for value----->  sourcing\n",
      "One hot encoding  for label class ----->  recruitment_channel_sourcing\n",
      "dropped column ----->  recruitment_channel_sourcing recruitment_channel\n",
      "############## test data ###################\n",
      "test One hot encoding  for value----->  other\n",
      "test One hot encoding  for label class ----->  recruitment_channel_other\n",
      "test One hot encoding  for value----->  referred\n",
      "test One hot encoding  for label class ----->  recruitment_channel_referred\n",
      "test One hot encoding  for value----->  sourcing\n",
      "test One hot encoding  for label class ----->  recruitment_channel_sourcing\n",
      "test dropped column ----->  recruitment_channel_sourcing recruitment_channel\n",
      "One hot encoding  for ----->  age\n",
      "One hot encoding  for value----->  20\n",
      "One hot encoding  for label class ----->  age_20\n",
      "One hot encoding  for value----->  25\n",
      "One hot encoding  for label class ----->  age_25\n",
      "One hot encoding  for value----->  30\n",
      "One hot encoding  for label class ----->  age_30\n",
      "One hot encoding  for value----->  35\n",
      "One hot encoding  for label class ----->  age_35\n",
      "One hot encoding  for value----->  40\n",
      "One hot encoding  for label class ----->  age_40\n",
      "One hot encoding  for value----->  45\n",
      "One hot encoding  for label class ----->  age_45\n",
      "One hot encoding  for value----->  50\n",
      "One hot encoding  for label class ----->  age_50\n",
      "One hot encoding  for value----->  55\n",
      "One hot encoding  for label class ----->  age_55\n",
      "One hot encoding  for value----->  60\n",
      "One hot encoding  for label class ----->  age_60\n",
      "dropped column ----->  age_60 age\n",
      "############## test data ###################\n",
      "test One hot encoding  for value----->  20\n",
      "test One hot encoding  for label class ----->  age_20\n",
      "test One hot encoding  for value----->  25\n",
      "test One hot encoding  for label class ----->  age_25\n",
      "test One hot encoding  for value----->  30\n",
      "test One hot encoding  for label class ----->  age_30\n",
      "test One hot encoding  for value----->  35\n",
      "test One hot encoding  for label class ----->  age_35\n",
      "test One hot encoding  for value----->  40\n",
      "test One hot encoding  for label class ----->  age_40\n",
      "test One hot encoding  for value----->  45\n",
      "test One hot encoding  for label class ----->  age_45\n",
      "test One hot encoding  for value----->  50\n",
      "test One hot encoding  for label class ----->  age_50\n",
      "test One hot encoding  for value----->  55\n",
      "test One hot encoding  for label class ----->  age_55\n",
      "test One hot encoding  for value----->  60\n",
      "test One hot encoding  for label class ----->  age_60\n",
      "test dropped column ----->  age_60 age\n",
      "One hot encoding  for ----->  no_of_trainings\n",
      "One hot encoding  for value----->  0\n",
      "One hot encoding  for label class ----->  no_of_trainings_0\n",
      "One hot encoding  for value----->  1\n",
      "One hot encoding  for label class ----->  no_of_trainings_1\n",
      "One hot encoding  for value----->  2\n",
      "One hot encoding  for label class ----->  no_of_trainings_2\n",
      "dropped column ----->  no_of_trainings_2 no_of_trainings\n",
      "############## test data ###################\n",
      "test One hot encoding  for value----->  0\n",
      "test One hot encoding  for label class ----->  no_of_trainings_0\n",
      "test One hot encoding  for value----->  1\n",
      "test One hot encoding  for label class ----->  no_of_trainings_1\n",
      "test One hot encoding  for value----->  2\n",
      "test One hot encoding  for label class ----->  no_of_trainings_2\n",
      "test dropped column ----->  no_of_trainings_2 no_of_trainings\n",
      "One hot encoding  for ----->  length_of_service\n",
      "One hot encoding  for value----->  1\n",
      "One hot encoding  for label class ----->  length_of_service_1\n",
      "One hot encoding  for value----->  2\n",
      "One hot encoding  for label class ----->  length_of_service_2\n",
      "One hot encoding  for value----->  3\n",
      "One hot encoding  for label class ----->  length_of_service_3\n",
      "One hot encoding  for value----->  4\n",
      "One hot encoding  for label class ----->  length_of_service_4\n",
      "One hot encoding  for value----->  5\n",
      "One hot encoding  for label class ----->  length_of_service_5\n",
      "One hot encoding  for value----->  6\n",
      "One hot encoding  for label class ----->  length_of_service_6\n",
      "One hot encoding  for value----->  7\n",
      "One hot encoding  for label class ----->  length_of_service_7\n",
      "One hot encoding  for value----->  8\n",
      "One hot encoding  for label class ----->  length_of_service_8\n",
      "One hot encoding  for value----->  9\n",
      "One hot encoding  for label class ----->  length_of_service_9\n",
      "One hot encoding  for value----->  10\n",
      "One hot encoding  for label class ----->  length_of_service_10\n",
      "One hot encoding  for value----->  11\n",
      "One hot encoding  for label class ----->  length_of_service_11\n",
      "One hot encoding  for value----->  12\n",
      "One hot encoding  for label class ----->  length_of_service_12\n",
      "One hot encoding  for value----->  13\n",
      "One hot encoding  for label class ----->  length_of_service_13\n",
      "One hot encoding  for value----->  14\n",
      "One hot encoding  for label class ----->  length_of_service_14\n",
      "One hot encoding  for value----->  15\n",
      "One hot encoding  for label class ----->  length_of_service_15\n",
      "One hot encoding  for value----->  16\n",
      "One hot encoding  for label class ----->  length_of_service_16\n",
      "One hot encoding  for value----->  17\n",
      "One hot encoding  for label class ----->  length_of_service_17\n",
      "One hot encoding  for value----->  18\n",
      "One hot encoding  for label class ----->  length_of_service_18\n",
      "One hot encoding  for value----->  19\n",
      "One hot encoding  for label class ----->  length_of_service_19\n",
      "One hot encoding  for value----->  20\n",
      "One hot encoding  for label class ----->  length_of_service_20\n",
      "One hot encoding  for value----->  21\n",
      "One hot encoding  for label class ----->  length_of_service_21\n",
      "One hot encoding  for value----->  22\n",
      "One hot encoding  for label class ----->  length_of_service_22\n",
      "One hot encoding  for value----->  23\n",
      "One hot encoding  for label class ----->  length_of_service_23\n",
      "One hot encoding  for value----->  24\n",
      "One hot encoding  for label class ----->  length_of_service_24\n",
      "One hot encoding  for value----->  25\n",
      "One hot encoding  for label class ----->  length_of_service_25\n",
      "One hot encoding  for value----->  26\n",
      "One hot encoding  for label class ----->  length_of_service_26\n",
      "One hot encoding  for value----->  27\n",
      "One hot encoding  for label class ----->  length_of_service_27\n",
      "One hot encoding  for value----->  28\n",
      "One hot encoding  for label class ----->  length_of_service_28\n",
      "One hot encoding  for value----->  29\n",
      "One hot encoding  for label class ----->  length_of_service_29\n",
      "One hot encoding  for value----->  30\n",
      "One hot encoding  for label class ----->  length_of_service_30\n",
      "One hot encoding  for value----->  31\n",
      "One hot encoding  for label class ----->  length_of_service_31\n",
      "One hot encoding  for value----->  32\n",
      "One hot encoding  for label class ----->  length_of_service_32\n",
      "One hot encoding  for value----->  33\n",
      "One hot encoding  for label class ----->  length_of_service_33\n",
      "One hot encoding  for value----->  34\n",
      "One hot encoding  for label class ----->  length_of_service_34\n",
      "One hot encoding  for value----->  37\n",
      "One hot encoding  for label class ----->  length_of_service_37\n",
      "dropped column ----->  length_of_service_37 length_of_service\n",
      "############## test data ###################\n",
      "test One hot encoding  for value----->  1\n",
      "test One hot encoding  for label class ----->  length_of_service_1\n",
      "test One hot encoding  for value----->  2\n",
      "test One hot encoding  for label class ----->  length_of_service_2\n",
      "test One hot encoding  for value----->  3\n",
      "test One hot encoding  for label class ----->  length_of_service_3\n",
      "test One hot encoding  for value----->  4\n",
      "test One hot encoding  for label class ----->  length_of_service_4\n",
      "test One hot encoding  for value----->  5\n",
      "test One hot encoding  for label class ----->  length_of_service_5\n",
      "test One hot encoding  for value----->  6\n",
      "test One hot encoding  for label class ----->  length_of_service_6\n",
      "test One hot encoding  for value----->  7\n",
      "test One hot encoding  for label class ----->  length_of_service_7\n",
      "test One hot encoding  for value----->  8\n",
      "test One hot encoding  for label class ----->  length_of_service_8\n",
      "test One hot encoding  for value----->  9\n",
      "test One hot encoding  for label class ----->  length_of_service_9\n",
      "test One hot encoding  for value----->  10\n",
      "test One hot encoding  for label class ----->  length_of_service_10\n",
      "test One hot encoding  for value----->  11\n",
      "test One hot encoding  for label class ----->  length_of_service_11\n",
      "test One hot encoding  for value----->  12\n",
      "test One hot encoding  for label class ----->  length_of_service_12\n",
      "test One hot encoding  for value----->  13\n",
      "test One hot encoding  for label class ----->  length_of_service_13\n",
      "test One hot encoding  for value----->  14\n",
      "test One hot encoding  for label class ----->  length_of_service_14\n",
      "test One hot encoding  for value----->  15\n",
      "test One hot encoding  for label class ----->  length_of_service_15\n",
      "test One hot encoding  for value----->  16\n",
      "test One hot encoding  for label class ----->  length_of_service_16\n",
      "test One hot encoding  for value----->  17\n",
      "test One hot encoding  for label class ----->  length_of_service_17\n",
      "test One hot encoding  for value----->  18\n",
      "test One hot encoding  for label class ----->  length_of_service_18\n",
      "test One hot encoding  for value----->  19\n",
      "test One hot encoding  for label class ----->  length_of_service_19\n",
      "test One hot encoding  for value----->  20\n",
      "test One hot encoding  for label class ----->  length_of_service_20\n",
      "test One hot encoding  for value----->  21\n",
      "test One hot encoding  for label class ----->  length_of_service_21\n",
      "test One hot encoding  for value----->  22\n",
      "test One hot encoding  for label class ----->  length_of_service_22\n",
      "test One hot encoding  for value----->  23\n",
      "test One hot encoding  for label class ----->  length_of_service_23\n",
      "test One hot encoding  for value----->  24\n",
      "test One hot encoding  for label class ----->  length_of_service_24\n",
      "test One hot encoding  for value----->  25\n",
      "test One hot encoding  for label class ----->  length_of_service_25\n",
      "test One hot encoding  for value----->  26\n",
      "test One hot encoding  for label class ----->  length_of_service_26\n",
      "test One hot encoding  for value----->  27\n",
      "test One hot encoding  for label class ----->  length_of_service_27\n",
      "test One hot encoding  for value----->  28\n",
      "test One hot encoding  for label class ----->  length_of_service_28\n",
      "test One hot encoding  for value----->  29\n",
      "test One hot encoding  for label class ----->  length_of_service_29\n",
      "test One hot encoding  for value----->  30\n",
      "test One hot encoding  for label class ----->  length_of_service_30\n",
      "test One hot encoding  for value----->  31\n",
      "test One hot encoding  for label class ----->  length_of_service_31\n",
      "test One hot encoding  for value----->  32\n",
      "test One hot encoding  for label class ----->  length_of_service_32\n",
      "test One hot encoding  for value----->  33\n",
      "test One hot encoding  for label class ----->  length_of_service_33\n",
      "test One hot encoding  for value----->  34\n",
      "test One hot encoding  for label class ----->  length_of_service_34\n",
      "test One hot encoding  for value----->  37\n",
      "test One hot encoding  for label class ----->  length_of_service_37\n",
      "test dropped column ----->  length_of_service_37 length_of_service\n",
      "One hot encoding  for ----->  KPIs_met >80%\n",
      "One hot encoding  for value----->  0\n",
      "One hot encoding  for label class ----->  KPIs_met >80%_0\n",
      "One hot encoding  for value----->  1\n",
      "One hot encoding  for label class ----->  KPIs_met >80%_1\n",
      "dropped column ----->  KPIs_met >80%_1 KPIs_met >80%\n",
      "############## test data ###################\n",
      "test One hot encoding  for value----->  0\n",
      "test One hot encoding  for label class ----->  KPIs_met >80%_0\n",
      "test One hot encoding  for value----->  1\n",
      "test One hot encoding  for label class ----->  KPIs_met >80%_1\n",
      "test dropped column ----->  KPIs_met >80%_1 KPIs_met >80%\n",
      "One hot encoding  for ----->  awards_won?\n",
      "One hot encoding  for value----->  0\n",
      "One hot encoding  for label class ----->  awards_won?_0\n",
      "One hot encoding  for value----->  1\n",
      "One hot encoding  for label class ----->  awards_won?_1\n",
      "dropped column ----->  awards_won?_1 awards_won?\n",
      "############## test data ###################\n",
      "test One hot encoding  for value----->  0\n",
      "test One hot encoding  for label class ----->  awards_won?_0\n",
      "test One hot encoding  for value----->  1\n",
      "test One hot encoding  for label class ----->  awards_won?_1\n",
      "test dropped column ----->  awards_won?_1 awards_won?\n",
      "One hot encoding  for ----->  avg_training_score\n",
      "One hot encoding  for value----->  0\n",
      "One hot encoding  for label class ----->  avg_training_score_0\n",
      "One hot encoding  for value----->  1\n",
      "One hot encoding  for label class ----->  avg_training_score_1\n",
      "One hot encoding  for value----->  2\n",
      "One hot encoding  for label class ----->  avg_training_score_2\n",
      "dropped column ----->  avg_training_score_2 avg_training_score\n",
      "############## test data ###################\n",
      "test One hot encoding  for value----->  0\n",
      "test One hot encoding  for label class ----->  avg_training_score_0\n",
      "test One hot encoding  for value----->  1\n",
      "test One hot encoding  for label class ----->  avg_training_score_1\n",
      "test One hot encoding  for value----->  2\n",
      "test One hot encoding  for label class ----->  avg_training_score_2\n",
      "test dropped column ----->  avg_training_score_2 avg_training_score\n",
      "One hot encoding  for ----->  previous_year_rating\n",
      "One hot encoding  for value----->  1.0\n",
      "One hot encoding  for label class ----->  previous_year_rating_1.0\n",
      "One hot encoding  for value----->  2.0\n",
      "One hot encoding  for label class ----->  previous_year_rating_2.0\n",
      "One hot encoding  for value----->  3.0\n",
      "One hot encoding  for label class ----->  previous_year_rating_3.0\n",
      "One hot encoding  for value----->  4.0\n",
      "One hot encoding  for label class ----->  previous_year_rating_4.0\n",
      "One hot encoding  for value----->  5.0\n",
      "One hot encoding  for label class ----->  previous_year_rating_5.0\n",
      "dropped column ----->  previous_year_rating_5.0 previous_year_rating\n",
      "############## test data ###################\n",
      "test One hot encoding  for value----->  1.0\n",
      "test One hot encoding  for label class ----->  previous_year_rating_1.0\n",
      "test One hot encoding  for value----->  2.0\n",
      "test One hot encoding  for label class ----->  previous_year_rating_2.0\n",
      "test One hot encoding  for value----->  3.0\n",
      "test One hot encoding  for label class ----->  previous_year_rating_3.0\n",
      "test One hot encoding  for value----->  4.0\n",
      "test One hot encoding  for label class ----->  previous_year_rating_4.0\n",
      "test One hot encoding  for value----->  5.0\n",
      "test One hot encoding  for label class ----->  previous_year_rating_5.0\n",
      "test dropped column ----->  previous_year_rating_5.0 previous_year_rating\n",
      "One hot encoding  for ----->  education\n",
      "One hot encoding  for value----->  0.0\n",
      "One hot encoding  for label class ----->  education_0.0\n",
      "One hot encoding  for value----->  1.0\n",
      "One hot encoding  for label class ----->  education_1.0\n",
      "One hot encoding  for value----->  2.0\n",
      "One hot encoding  for label class ----->  education_2.0\n",
      "dropped column ----->  education_2.0 education\n",
      "############## test data ###################\n",
      "test One hot encoding  for value----->  0.0\n",
      "test One hot encoding  for label class ----->  education_0.0\n",
      "test One hot encoding  for value----->  1.0\n",
      "test One hot encoding  for label class ----->  education_1.0\n",
      "test One hot encoding  for value----->  2.0\n",
      "test One hot encoding  for label class ----->  education_2.0\n",
      "test dropped column ----->  education_2.0 education\n"
     ]
    }
   ],
   "source": [
    "dict_labelencode={}\n",
    "for col in ['department', 'region', 'gender', 'recruitment_channel', 'age', 'no_of_trainings', \n",
    "                    'length_of_service', 'KPIs_met >80%', 'awards_won?', 'avg_training_score', \n",
    "                    'previous_year_rating', 'education']:\n",
    "#for col in ['department', 'gender', 'recruitment_channel']:\n",
    "    le = LabelEncoder()\n",
    "    df_train[col] = le.fit_transform(df_train[col])\n",
    "    df_test[col] = le.transform(df_test[col])\n",
    "    dict_labelencode[col] = le.classes_\n",
    "    print(\"One hot encoding  for -----> \", col)                \n",
    "    onehotencoder = OneHotEncoder(categorical_features = 'all')\n",
    "    dummy_var = onehotencoder.fit_transform(df_train[col].values.reshape(-1,1)).toarray()\n",
    "    valueList = dict_labelencode[col]\n",
    "    i = 0 \n",
    "    for value in valueList:\n",
    "        print(\"One hot encoding  for value-----> \", value) \n",
    "        newcolumn = col + str(\"_\") + str(value)\n",
    "        print(\"One hot encoding  for label class -----> \", newcolumn)\n",
    "        df_train[newcolumn] = dummy_var[:, i]\n",
    "        i = i+1\n",
    "    df_train = df_train.drop([newcolumn], axis=1)    \n",
    "    df_train = df_train.drop([col], axis=1)\n",
    "    print(\"dropped column -----> \", newcolumn, col)\n",
    "    print(\"############## test data ###################\")\n",
    "    dummy_var = onehotencoder.transform(df_test[col].values.reshape(-1,1)).toarray()\n",
    "    valueList = dict_labelencode[col]\n",
    "    i = 0 \n",
    "    for value in valueList:\n",
    "        print(\"test One hot encoding  for value-----> \", value) \n",
    "        newcolumn = col + str(\"_\") + str(value)\n",
    "        print(\"test One hot encoding  for label class -----> \", newcolumn)\n",
    "        df_test[newcolumn] = dummy_var[:, i]\n",
    "        i = i+1\n",
    "    df_test = df_test.drop([newcolumn], axis=1)    \n",
    "    df_test = df_test.drop([col], axis=1)\n",
    "    print(\"test dropped column -----> \", newcolumn, col)\n",
    "    \n",
    "    #df_test = df_test.drop([col], axis=1)\n",
    "    "
   ]
  },
  {
   "cell_type": "code",
   "execution_count": 68,
   "metadata": {
    "collapsed": false
   },
   "outputs": [
    {
     "data": {
      "text/plain": [
       "Index(['employee_id', 'is_promoted', 'department_Analytics',\n",
       "       'department_Finance', 'department_HR', 'department_Legal',\n",
       "       'department_Operations', 'department_Procurement', 'department_R&D',\n",
       "       'department_Sales & Marketing', 'region_1', 'region_2', 'region_3',\n",
       "       'region_4', 'region_5', 'region_6', 'region_7', 'region_8', 'region_9',\n",
       "       'region_10', 'region_11', 'region_12', 'region_13', 'region_14',\n",
       "       'region_15', 'region_16', 'region_17', 'region_18', 'region_19',\n",
       "       'region_20', 'region_21', 'region_22', 'region_23', 'region_24',\n",
       "       'region_25', 'region_26', 'region_27', 'region_28', 'region_29',\n",
       "       'region_30', 'region_31', 'region_32', 'region_33', 'gender_f',\n",
       "       'recruitment_channel_other', 'recruitment_channel_referred', 'age_20',\n",
       "       'age_25', 'age_30', 'age_35', 'age_40', 'age_45', 'age_50', 'age_55',\n",
       "       'no_of_trainings_0', 'no_of_trainings_1', 'length_of_service_1',\n",
       "       'length_of_service_2', 'length_of_service_3', 'length_of_service_4',\n",
       "       'length_of_service_5', 'length_of_service_6', 'length_of_service_7',\n",
       "       'length_of_service_8', 'length_of_service_9', 'length_of_service_10',\n",
       "       'length_of_service_11', 'length_of_service_12', 'length_of_service_13',\n",
       "       'length_of_service_14', 'length_of_service_15', 'length_of_service_16',\n",
       "       'length_of_service_17', 'length_of_service_18', 'length_of_service_19',\n",
       "       'length_of_service_20', 'length_of_service_21', 'length_of_service_22',\n",
       "       'length_of_service_23', 'length_of_service_24', 'length_of_service_25',\n",
       "       'length_of_service_26', 'length_of_service_27', 'length_of_service_28',\n",
       "       'length_of_service_29', 'length_of_service_30', 'length_of_service_31',\n",
       "       'length_of_service_32', 'length_of_service_33', 'length_of_service_34',\n",
       "       'KPIs_met >80%_0', 'awards_won?_0', 'avg_training_score_0',\n",
       "       'avg_training_score_1', 'previous_year_rating_1.0',\n",
       "       'previous_year_rating_2.0', 'previous_year_rating_3.0',\n",
       "       'previous_year_rating_4.0', 'education_0.0', 'education_1.0'],\n",
       "      dtype='object')"
      ]
     },
     "execution_count": 68,
     "metadata": {},
     "output_type": "execute_result"
    }
   ],
   "source": [
    "df_train.columns"
   ]
  },
  {
   "cell_type": "code",
   "execution_count": 69,
   "metadata": {
    "collapsed": false
   },
   "outputs": [
    {
     "data": {
      "text/plain": [
       "Index(['employee_id', 'department_Analytics', 'department_Finance',\n",
       "       'department_HR', 'department_Legal', 'department_Operations',\n",
       "       'department_Procurement', 'department_R&D',\n",
       "       'department_Sales & Marketing', 'region_1', 'region_2', 'region_3',\n",
       "       'region_4', 'region_5', 'region_6', 'region_7', 'region_8', 'region_9',\n",
       "       'region_10', 'region_11', 'region_12', 'region_13', 'region_14',\n",
       "       'region_15', 'region_16', 'region_17', 'region_18', 'region_19',\n",
       "       'region_20', 'region_21', 'region_22', 'region_23', 'region_24',\n",
       "       'region_25', 'region_26', 'region_27', 'region_28', 'region_29',\n",
       "       'region_30', 'region_31', 'region_32', 'region_33', 'gender_f',\n",
       "       'recruitment_channel_other', 'recruitment_channel_referred', 'age_20',\n",
       "       'age_25', 'age_30', 'age_35', 'age_40', 'age_45', 'age_50', 'age_55',\n",
       "       'no_of_trainings_0', 'no_of_trainings_1', 'length_of_service_1',\n",
       "       'length_of_service_2', 'length_of_service_3', 'length_of_service_4',\n",
       "       'length_of_service_5', 'length_of_service_6', 'length_of_service_7',\n",
       "       'length_of_service_8', 'length_of_service_9', 'length_of_service_10',\n",
       "       'length_of_service_11', 'length_of_service_12', 'length_of_service_13',\n",
       "       'length_of_service_14', 'length_of_service_15', 'length_of_service_16',\n",
       "       'length_of_service_17', 'length_of_service_18', 'length_of_service_19',\n",
       "       'length_of_service_20', 'length_of_service_21', 'length_of_service_22',\n",
       "       'length_of_service_23', 'length_of_service_24', 'length_of_service_25',\n",
       "       'length_of_service_26', 'length_of_service_27', 'length_of_service_28',\n",
       "       'length_of_service_29', 'length_of_service_30', 'length_of_service_31',\n",
       "       'length_of_service_32', 'length_of_service_33', 'length_of_service_34',\n",
       "       'KPIs_met >80%_0', 'awards_won?_0', 'avg_training_score_0',\n",
       "       'avg_training_score_1', 'previous_year_rating_1.0',\n",
       "       'previous_year_rating_2.0', 'previous_year_rating_3.0',\n",
       "       'previous_year_rating_4.0', 'education_0.0', 'education_1.0'],\n",
       "      dtype='object')"
      ]
     },
     "execution_count": 69,
     "metadata": {},
     "output_type": "execute_result"
    }
   ],
   "source": [
    "df_test.columns"
   ]
  },
  {
   "cell_type": "code",
   "execution_count": 23,
   "metadata": {
    "collapsed": true
   },
   "outputs": [],
   "source": [
    "X1 = df_train.loc[:,['department_Analytics',\n",
    "       'department_Finance', 'department_HR', 'department_Legal',\n",
    "       'department_Operations', 'department_Procurement', 'department_R&D',\n",
    "       'department_Sales & Marketing', 'region_1', 'region_2', 'region_3',\n",
    "       'region_4', 'region_5', 'region_6', 'region_7', 'region_8', 'region_9',\n",
    "       'region_10', 'region_11', 'region_12', 'region_13', 'region_14',\n",
    "       'region_15', 'region_16', 'region_17', 'region_18', 'region_19',\n",
    "       'region_20', 'region_21', 'region_22', 'region_23', 'region_24',\n",
    "       'region_25', 'region_26', 'region_27', 'region_28', 'region_29',\n",
    "       'region_30', 'region_31', 'region_32', 'region_33', 'gender_f',\n",
    "       'recruitment_channel_other', 'recruitment_channel_referred', 'age_20',\n",
    "       'age_25', 'age_30', 'age_35', 'age_40', 'age_45', 'age_50', 'age_55',\n",
    "       'no_of_trainings_0', 'no_of_trainings_1', 'length_of_service_1',\n",
    "       'length_of_service_2', 'length_of_service_3', 'length_of_service_4',\n",
    "       'length_of_service_5', 'length_of_service_6', 'length_of_service_7',\n",
    "       'length_of_service_8', 'length_of_service_9', 'length_of_service_10',\n",
    "       'length_of_service_11', 'length_of_service_12', 'length_of_service_13',\n",
    "       'length_of_service_14', 'length_of_service_15', 'length_of_service_16',\n",
    "       'length_of_service_17', 'length_of_service_18', 'length_of_service_19',\n",
    "       'length_of_service_20', 'length_of_service_21', 'length_of_service_22',\n",
    "       'length_of_service_23', 'length_of_service_24', 'length_of_service_25',\n",
    "       'length_of_service_26', 'length_of_service_27', 'length_of_service_28',\n",
    "       'length_of_service_29', 'length_of_service_30', 'length_of_service_31',\n",
    "       'length_of_service_32', 'length_of_service_33', 'length_of_service_34',\n",
    "       'KPIs_met >80%_0', 'awards_won?_0', 'avg_training_score_0',\n",
    "       'avg_training_score_1', 'previous_year_rating_1.0',\n",
    "       'previous_year_rating_2.0', 'previous_year_rating_3.0',\n",
    "       'previous_year_rating_4.0', 'education_0.0', 'education_1.0']].values\n",
    "y1 = df_train.loc[:,['is_promoted']].values\n",
    "#y_train = df_train.loc[:,['is_promoted']].values\n",
    "\n",
    "X2 = df_test.loc[:,['department_Analytics', 'department_Finance',\n",
    "       'department_HR', 'department_Legal', 'department_Operations',\n",
    "       'department_Procurement', 'department_R&D',\n",
    "       'department_Sales & Marketing', 'region_1', 'region_2', 'region_3',\n",
    "       'region_4', 'region_5', 'region_6', 'region_7', 'region_8', 'region_9',\n",
    "       'region_10', 'region_11', 'region_12', 'region_13', 'region_14',\n",
    "       'region_15', 'region_16', 'region_17', 'region_18', 'region_19',\n",
    "       'region_20', 'region_21', 'region_22', 'region_23', 'region_24',\n",
    "       'region_25', 'region_26', 'region_27', 'region_28', 'region_29',\n",
    "       'region_30', 'region_31', 'region_32', 'region_33', 'gender_f',\n",
    "       'recruitment_channel_other', 'recruitment_channel_referred', 'age_20',\n",
    "       'age_25', 'age_30', 'age_35', 'age_40', 'age_45', 'age_50', 'age_55',\n",
    "       'no_of_trainings_0', 'no_of_trainings_1', 'length_of_service_1',\n",
    "       'length_of_service_2', 'length_of_service_3', 'length_of_service_4',\n",
    "       'length_of_service_5', 'length_of_service_6', 'length_of_service_7',\n",
    "       'length_of_service_8', 'length_of_service_9', 'length_of_service_10',\n",
    "       'length_of_service_11', 'length_of_service_12', 'length_of_service_13',\n",
    "       'length_of_service_14', 'length_of_service_15', 'length_of_service_16',\n",
    "       'length_of_service_17', 'length_of_service_18', 'length_of_service_19',\n",
    "       'length_of_service_20', 'length_of_service_21', 'length_of_service_22',\n",
    "       'length_of_service_23', 'length_of_service_24', 'length_of_service_25',\n",
    "       'length_of_service_26', 'length_of_service_27', 'length_of_service_28',\n",
    "       'length_of_service_29', 'length_of_service_30', 'length_of_service_31',\n",
    "       'length_of_service_32', 'length_of_service_33', 'length_of_service_34',\n",
    "       'KPIs_met >80%_0', 'awards_won?_0', 'avg_training_score_0',\n",
    "       'avg_training_score_1', 'previous_year_rating_1.0',\n",
    "       'previous_year_rating_2.0', 'previous_year_rating_3.0',\n",
    "       'previous_year_rating_4.0', 'education_0.0', 'education_1.0']].values"
   ]
  },
  {
   "cell_type": "code",
   "execution_count": 24,
   "metadata": {
    "collapsed": true
   },
   "outputs": [],
   "source": [
    "X_train, X_test, y_train, y_test = train_test_split(X1, y1, test_size = 0.20, random_state = 0)"
   ]
  },
  {
   "cell_type": "code",
   "execution_count": 25,
   "metadata": {
    "collapsed": false
   },
   "outputs": [
    {
     "data": {
      "text/html": [
       "<div>\n",
       "<table border=\"1\" class=\"dataframe\">\n",
       "  <thead>\n",
       "    <tr style=\"text-align: right;\">\n",
       "      <th></th>\n",
       "      <th>employee_id</th>\n",
       "      <th>is_promoted</th>\n",
       "      <th>department_Analytics</th>\n",
       "      <th>department_Finance</th>\n",
       "      <th>department_HR</th>\n",
       "      <th>department_Legal</th>\n",
       "      <th>department_Operations</th>\n",
       "      <th>department_Procurement</th>\n",
       "      <th>department_R&amp;D</th>\n",
       "      <th>department_Sales &amp; Marketing</th>\n",
       "      <th>...</th>\n",
       "      <th>KPIs_met &gt;80%_0</th>\n",
       "      <th>awards_won?_0</th>\n",
       "      <th>avg_training_score_0</th>\n",
       "      <th>avg_training_score_1</th>\n",
       "      <th>previous_year_rating_1.0</th>\n",
       "      <th>previous_year_rating_2.0</th>\n",
       "      <th>previous_year_rating_3.0</th>\n",
       "      <th>previous_year_rating_4.0</th>\n",
       "      <th>education_0.0</th>\n",
       "      <th>education_1.0</th>\n",
       "    </tr>\n",
       "  </thead>\n",
       "  <tbody>\n",
       "    <tr>\n",
       "      <th>count</th>\n",
       "      <td>54808.000000</td>\n",
       "      <td>54808.000000</td>\n",
       "      <td>54808.000000</td>\n",
       "      <td>54808.000000</td>\n",
       "      <td>54808.000000</td>\n",
       "      <td>54808.000000</td>\n",
       "      <td>54808.000000</td>\n",
       "      <td>54808.000000</td>\n",
       "      <td>54808.000000</td>\n",
       "      <td>54808.000000</td>\n",
       "      <td>...</td>\n",
       "      <td>54808.000000</td>\n",
       "      <td>54808.000000</td>\n",
       "      <td>54808.000000</td>\n",
       "      <td>54808.000000</td>\n",
       "      <td>54808.000000</td>\n",
       "      <td>54808.000000</td>\n",
       "      <td>54808.000000</td>\n",
       "      <td>54808.000000</td>\n",
       "      <td>54808.000000</td>\n",
       "      <td>54808.000000</td>\n",
       "    </tr>\n",
       "    <tr>\n",
       "      <th>mean</th>\n",
       "      <td>39195.830627</td>\n",
       "      <td>0.085170</td>\n",
       "      <td>0.097650</td>\n",
       "      <td>0.046271</td>\n",
       "      <td>0.044118</td>\n",
       "      <td>0.018957</td>\n",
       "      <td>0.207050</td>\n",
       "      <td>0.130236</td>\n",
       "      <td>0.018227</td>\n",
       "      <td>0.307254</td>\n",
       "      <td>...</td>\n",
       "      <td>0.648026</td>\n",
       "      <td>0.976828</td>\n",
       "      <td>0.434316</td>\n",
       "      <td>0.352503</td>\n",
       "      <td>0.113542</td>\n",
       "      <td>0.077087</td>\n",
       "      <td>0.414939</td>\n",
       "      <td>0.180211</td>\n",
       "      <td>0.014688</td>\n",
       "      <td>0.712998</td>\n",
       "    </tr>\n",
       "    <tr>\n",
       "      <th>std</th>\n",
       "      <td>22586.581449</td>\n",
       "      <td>0.279137</td>\n",
       "      <td>0.296844</td>\n",
       "      <td>0.210072</td>\n",
       "      <td>0.205358</td>\n",
       "      <td>0.136375</td>\n",
       "      <td>0.405195</td>\n",
       "      <td>0.336566</td>\n",
       "      <td>0.133774</td>\n",
       "      <td>0.461360</td>\n",
       "      <td>...</td>\n",
       "      <td>0.477590</td>\n",
       "      <td>0.150450</td>\n",
       "      <td>0.495671</td>\n",
       "      <td>0.477754</td>\n",
       "      <td>0.317257</td>\n",
       "      <td>0.266732</td>\n",
       "      <td>0.492716</td>\n",
       "      <td>0.384367</td>\n",
       "      <td>0.120300</td>\n",
       "      <td>0.452367</td>\n",
       "    </tr>\n",
       "    <tr>\n",
       "      <th>min</th>\n",
       "      <td>1.000000</td>\n",
       "      <td>0.000000</td>\n",
       "      <td>0.000000</td>\n",
       "      <td>0.000000</td>\n",
       "      <td>0.000000</td>\n",
       "      <td>0.000000</td>\n",
       "      <td>0.000000</td>\n",
       "      <td>0.000000</td>\n",
       "      <td>0.000000</td>\n",
       "      <td>0.000000</td>\n",
       "      <td>...</td>\n",
       "      <td>0.000000</td>\n",
       "      <td>0.000000</td>\n",
       "      <td>0.000000</td>\n",
       "      <td>0.000000</td>\n",
       "      <td>0.000000</td>\n",
       "      <td>0.000000</td>\n",
       "      <td>0.000000</td>\n",
       "      <td>0.000000</td>\n",
       "      <td>0.000000</td>\n",
       "      <td>0.000000</td>\n",
       "    </tr>\n",
       "    <tr>\n",
       "      <th>25%</th>\n",
       "      <td>19669.750000</td>\n",
       "      <td>0.000000</td>\n",
       "      <td>0.000000</td>\n",
       "      <td>0.000000</td>\n",
       "      <td>0.000000</td>\n",
       "      <td>0.000000</td>\n",
       "      <td>0.000000</td>\n",
       "      <td>0.000000</td>\n",
       "      <td>0.000000</td>\n",
       "      <td>0.000000</td>\n",
       "      <td>...</td>\n",
       "      <td>0.000000</td>\n",
       "      <td>1.000000</td>\n",
       "      <td>0.000000</td>\n",
       "      <td>0.000000</td>\n",
       "      <td>0.000000</td>\n",
       "      <td>0.000000</td>\n",
       "      <td>0.000000</td>\n",
       "      <td>0.000000</td>\n",
       "      <td>0.000000</td>\n",
       "      <td>0.000000</td>\n",
       "    </tr>\n",
       "    <tr>\n",
       "      <th>50%</th>\n",
       "      <td>39225.500000</td>\n",
       "      <td>0.000000</td>\n",
       "      <td>0.000000</td>\n",
       "      <td>0.000000</td>\n",
       "      <td>0.000000</td>\n",
       "      <td>0.000000</td>\n",
       "      <td>0.000000</td>\n",
       "      <td>0.000000</td>\n",
       "      <td>0.000000</td>\n",
       "      <td>0.000000</td>\n",
       "      <td>...</td>\n",
       "      <td>1.000000</td>\n",
       "      <td>1.000000</td>\n",
       "      <td>0.000000</td>\n",
       "      <td>0.000000</td>\n",
       "      <td>0.000000</td>\n",
       "      <td>0.000000</td>\n",
       "      <td>0.000000</td>\n",
       "      <td>0.000000</td>\n",
       "      <td>0.000000</td>\n",
       "      <td>1.000000</td>\n",
       "    </tr>\n",
       "    <tr>\n",
       "      <th>75%</th>\n",
       "      <td>58730.500000</td>\n",
       "      <td>0.000000</td>\n",
       "      <td>0.000000</td>\n",
       "      <td>0.000000</td>\n",
       "      <td>0.000000</td>\n",
       "      <td>0.000000</td>\n",
       "      <td>0.000000</td>\n",
       "      <td>0.000000</td>\n",
       "      <td>0.000000</td>\n",
       "      <td>1.000000</td>\n",
       "      <td>...</td>\n",
       "      <td>1.000000</td>\n",
       "      <td>1.000000</td>\n",
       "      <td>1.000000</td>\n",
       "      <td>1.000000</td>\n",
       "      <td>0.000000</td>\n",
       "      <td>0.000000</td>\n",
       "      <td>1.000000</td>\n",
       "      <td>0.000000</td>\n",
       "      <td>0.000000</td>\n",
       "      <td>1.000000</td>\n",
       "    </tr>\n",
       "    <tr>\n",
       "      <th>max</th>\n",
       "      <td>78298.000000</td>\n",
       "      <td>1.000000</td>\n",
       "      <td>1.000000</td>\n",
       "      <td>1.000000</td>\n",
       "      <td>1.000000</td>\n",
       "      <td>1.000000</td>\n",
       "      <td>1.000000</td>\n",
       "      <td>1.000000</td>\n",
       "      <td>1.000000</td>\n",
       "      <td>1.000000</td>\n",
       "      <td>...</td>\n",
       "      <td>1.000000</td>\n",
       "      <td>1.000000</td>\n",
       "      <td>1.000000</td>\n",
       "      <td>1.000000</td>\n",
       "      <td>1.000000</td>\n",
       "      <td>1.000000</td>\n",
       "      <td>1.000000</td>\n",
       "      <td>1.000000</td>\n",
       "      <td>1.000000</td>\n",
       "      <td>1.000000</td>\n",
       "    </tr>\n",
       "  </tbody>\n",
       "</table>\n",
       "<p>8 rows × 100 columns</p>\n",
       "</div>"
      ],
      "text/plain": [
       "        employee_id   is_promoted  department_Analytics  department_Finance  \\\n",
       "count  54808.000000  54808.000000          54808.000000        54808.000000   \n",
       "mean   39195.830627      0.085170              0.097650            0.046271   \n",
       "std    22586.581449      0.279137              0.296844            0.210072   \n",
       "min        1.000000      0.000000              0.000000            0.000000   \n",
       "25%    19669.750000      0.000000              0.000000            0.000000   \n",
       "50%    39225.500000      0.000000              0.000000            0.000000   \n",
       "75%    58730.500000      0.000000              0.000000            0.000000   \n",
       "max    78298.000000      1.000000              1.000000            1.000000   \n",
       "\n",
       "       department_HR  department_Legal  department_Operations  \\\n",
       "count   54808.000000      54808.000000           54808.000000   \n",
       "mean        0.044118          0.018957               0.207050   \n",
       "std         0.205358          0.136375               0.405195   \n",
       "min         0.000000          0.000000               0.000000   \n",
       "25%         0.000000          0.000000               0.000000   \n",
       "50%         0.000000          0.000000               0.000000   \n",
       "75%         0.000000          0.000000               0.000000   \n",
       "max         1.000000          1.000000               1.000000   \n",
       "\n",
       "       department_Procurement  department_R&D  department_Sales & Marketing  \\\n",
       "count            54808.000000    54808.000000                  54808.000000   \n",
       "mean                 0.130236        0.018227                      0.307254   \n",
       "std                  0.336566        0.133774                      0.461360   \n",
       "min                  0.000000        0.000000                      0.000000   \n",
       "25%                  0.000000        0.000000                      0.000000   \n",
       "50%                  0.000000        0.000000                      0.000000   \n",
       "75%                  0.000000        0.000000                      1.000000   \n",
       "max                  1.000000        1.000000                      1.000000   \n",
       "\n",
       "           ...        KPIs_met >80%_0  awards_won?_0  avg_training_score_0  \\\n",
       "count      ...           54808.000000   54808.000000          54808.000000   \n",
       "mean       ...               0.648026       0.976828              0.434316   \n",
       "std        ...               0.477590       0.150450              0.495671   \n",
       "min        ...               0.000000       0.000000              0.000000   \n",
       "25%        ...               0.000000       1.000000              0.000000   \n",
       "50%        ...               1.000000       1.000000              0.000000   \n",
       "75%        ...               1.000000       1.000000              1.000000   \n",
       "max        ...               1.000000       1.000000              1.000000   \n",
       "\n",
       "       avg_training_score_1  previous_year_rating_1.0  \\\n",
       "count          54808.000000              54808.000000   \n",
       "mean               0.352503                  0.113542   \n",
       "std                0.477754                  0.317257   \n",
       "min                0.000000                  0.000000   \n",
       "25%                0.000000                  0.000000   \n",
       "50%                0.000000                  0.000000   \n",
       "75%                1.000000                  0.000000   \n",
       "max                1.000000                  1.000000   \n",
       "\n",
       "       previous_year_rating_2.0  previous_year_rating_3.0  \\\n",
       "count              54808.000000              54808.000000   \n",
       "mean                   0.077087                  0.414939   \n",
       "std                    0.266732                  0.492716   \n",
       "min                    0.000000                  0.000000   \n",
       "25%                    0.000000                  0.000000   \n",
       "50%                    0.000000                  0.000000   \n",
       "75%                    0.000000                  1.000000   \n",
       "max                    1.000000                  1.000000   \n",
       "\n",
       "       previous_year_rating_4.0  education_0.0  education_1.0  \n",
       "count              54808.000000   54808.000000   54808.000000  \n",
       "mean                   0.180211       0.014688       0.712998  \n",
       "std                    0.384367       0.120300       0.452367  \n",
       "min                    0.000000       0.000000       0.000000  \n",
       "25%                    0.000000       0.000000       0.000000  \n",
       "50%                    0.000000       0.000000       1.000000  \n",
       "75%                    0.000000       0.000000       1.000000  \n",
       "max                    1.000000       1.000000       1.000000  \n",
       "\n",
       "[8 rows x 100 columns]"
      ]
     },
     "execution_count": 25,
     "metadata": {},
     "output_type": "execute_result"
    }
   ],
   "source": [
    "df_train.describe()"
   ]
  },
  {
   "cell_type": "markdown",
   "metadata": {},
   "source": [
    "# Bagging Classifier"
   ]
  },
  {
   "cell_type": "code",
   "execution_count": 85,
   "metadata": {
    "collapsed": false
   },
   "outputs": [
    {
     "name": "stderr",
     "output_type": "stream",
     "text": [
      "C:\\ProgramData\\Anaconda3\\lib\\site-packages\\sklearn\\utils\\validation.py:526: DataConversionWarning: A column-vector y was passed when a 1d array was expected. Please change the shape of y to (n_samples, ), for example using ravel().\n",
      "  y = column_or_1d(y, warn=True)\n"
     ]
    },
    {
     "data": {
      "text/plain": [
       "BaggingClassifier(base_estimator=DecisionTreeClassifier(class_weight=None, criterion='entropy', max_depth=20,\n",
       "            max_features=None, max_leaf_nodes=None,\n",
       "            min_impurity_split=1e-07, min_samples_leaf=1,\n",
       "            min_samples_split=2, min_weight_fraction_leaf=0.0,\n",
       "            presort=False, random_state=None, splitter='best'),\n",
       "         bootstrap=True, bootstrap_features=False, max_features=1.0,\n",
       "         max_samples=1.0, n_estimators=20, n_jobs=1, oob_score=False,\n",
       "         random_state=None, verbose=0, warm_start=False)"
      ]
     },
     "execution_count": 85,
     "metadata": {},
     "output_type": "execute_result"
    }
   ],
   "source": [
    "clf_tree=DecisionTreeClassifier(criterion='entropy', max_depth=20)\n",
    "bag_classifier = BaggingClassifier(base_estimator=clf_tree, n_estimators=20)\n",
    "bag_classifier.fit(X_train, y_train)"
   ]
  },
  {
   "cell_type": "code",
   "execution_count": 86,
   "metadata": {
    "collapsed": false
   },
   "outputs": [
    {
     "name": "stdout",
     "output_type": "stream",
     "text": [
      "0.932767743113\n",
      "0.403238866397\n"
     ]
    }
   ],
   "source": [
    "bg_y_pred = bag_classifier.predict(X_test)\n",
    "print(accuracy_score(y_test, bg_y_pred))\n",
    "print(f1_score(y_test, bg_y_pred))"
   ]
  },
  {
   "cell_type": "code",
   "execution_count": 87,
   "metadata": {
    "collapsed": false
   },
   "outputs": [],
   "source": [
    "bg_y_pred2 = bag_classifier.predict(X2)\n",
    "df_test['is_promoted'] = bg_y_pred2\n",
    "header = ['employee_id', 'is_promoted']\n",
    "df_test[header].to_csv('bag_submission.csv', columns = header, index=False)"
   ]
  },
  {
   "cell_type": "code",
   "execution_count": 26,
   "metadata": {
    "collapsed": false
   },
   "outputs": [
    {
     "name": "stderr",
     "output_type": "stream",
     "text": [
      "C:\\ProgramData\\Anaconda3\\lib\\site-packages\\sklearn\\utils\\validation.py:526: DataConversionWarning: A column-vector y was passed when a 1d array was expected. Please change the shape of y to (n_samples, ), for example using ravel().\n",
      "  y = column_or_1d(y, warn=True)\n"
     ]
    },
    {
     "name": "stdout",
     "output_type": "stream",
     "text": [
      "########Ac 20 10 0.9352307973\n",
      "########F1 20 10 0.415156507414\n"
     ]
    },
    {
     "name": "stderr",
     "output_type": "stream",
     "text": [
      "C:\\ProgramData\\Anaconda3\\lib\\site-packages\\sklearn\\utils\\validation.py:526: DataConversionWarning: A column-vector y was passed when a 1d array was expected. Please change the shape of y to (n_samples, ), for example using ravel().\n",
      "  y = column_or_1d(y, warn=True)\n"
     ]
    },
    {
     "name": "stdout",
     "output_type": "stream",
     "text": [
      "########Ac 20 30 0.934865900383\n",
      "########F1 20 30 0.405\n"
     ]
    },
    {
     "name": "stderr",
     "output_type": "stream",
     "text": [
      "C:\\ProgramData\\Anaconda3\\lib\\site-packages\\sklearn\\utils\\validation.py:526: DataConversionWarning: A column-vector y was passed when a 1d array was expected. Please change the shape of y to (n_samples, ), for example using ravel().\n",
      "  y = column_or_1d(y, warn=True)\n"
     ]
    },
    {
     "name": "stdout",
     "output_type": "stream",
     "text": [
      "########Ac 20 50 0.935504469987\n",
      "########F1 20 50 0.411323896753\n"
     ]
    },
    {
     "name": "stderr",
     "output_type": "stream",
     "text": [
      "C:\\ProgramData\\Anaconda3\\lib\\site-packages\\sklearn\\utils\\validation.py:526: DataConversionWarning: A column-vector y was passed when a 1d array was expected. Please change the shape of y to (n_samples, ), for example using ravel().\n",
      "  y = column_or_1d(y, warn=True)\n"
     ]
    },
    {
     "name": "stdout",
     "output_type": "stream",
     "text": [
      "########Ac 20 70 0.934865900383\n",
      "########F1 20 70 0.39898989899\n"
     ]
    },
    {
     "name": "stderr",
     "output_type": "stream",
     "text": [
      "C:\\ProgramData\\Anaconda3\\lib\\site-packages\\sklearn\\utils\\validation.py:526: DataConversionWarning: A column-vector y was passed when a 1d array was expected. Please change the shape of y to (n_samples, ), for example using ravel().\n",
      "  y = column_or_1d(y, warn=True)\n"
     ]
    },
    {
     "name": "stdout",
     "output_type": "stream",
     "text": [
      "########Ac 20 90 0.933953658092\n",
      "########F1 20 90 0.394648829431\n"
     ]
    },
    {
     "name": "stderr",
     "output_type": "stream",
     "text": [
      "C:\\ProgramData\\Anaconda3\\lib\\site-packages\\sklearn\\utils\\validation.py:526: DataConversionWarning: A column-vector y was passed when a 1d array was expected. Please change the shape of y to (n_samples, ), for example using ravel().\n",
      "  y = column_or_1d(y, warn=True)\n"
     ]
    },
    {
     "name": "stdout",
     "output_type": "stream",
     "text": [
      "########Ac 20 110 0.933953658092\n",
      "########F1 20 110 0.403624382208\n"
     ]
    },
    {
     "name": "stderr",
     "output_type": "stream",
     "text": [
      "C:\\ProgramData\\Anaconda3\\lib\\site-packages\\sklearn\\utils\\validation.py:526: DataConversionWarning: A column-vector y was passed when a 1d array was expected. Please change the shape of y to (n_samples, ), for example using ravel().\n",
      "  y = column_or_1d(y, warn=True)\n"
     ]
    },
    {
     "name": "stdout",
     "output_type": "stream",
     "text": [
      "########Ac 20 130 0.933953658092\n",
      "########F1 20 130 0.399668325041\n"
     ]
    },
    {
     "name": "stderr",
     "output_type": "stream",
     "text": [
      "C:\\ProgramData\\Anaconda3\\lib\\site-packages\\sklearn\\utils\\validation.py:526: DataConversionWarning: A column-vector y was passed when a 1d array was expected. Please change the shape of y to (n_samples, ), for example using ravel().\n",
      "  y = column_or_1d(y, warn=True)\n"
     ]
    },
    {
     "name": "stdout",
     "output_type": "stream",
     "text": [
      "########Ac 20 150 0.934044882321\n",
      "########F1 20 150 0.4\n"
     ]
    },
    {
     "name": "stderr",
     "output_type": "stream",
     "text": [
      "C:\\ProgramData\\Anaconda3\\lib\\site-packages\\sklearn\\utils\\validation.py:526: DataConversionWarning: A column-vector y was passed when a 1d array was expected. Please change the shape of y to (n_samples, ), for example using ravel().\n",
      "  y = column_or_1d(y, warn=True)\n"
     ]
    },
    {
     "name": "stdout",
     "output_type": "stream",
     "text": [
      "########Ac 20 170 0.934044882321\n",
      "########F1 20 170 0.4\n"
     ]
    },
    {
     "name": "stderr",
     "output_type": "stream",
     "text": [
      "C:\\ProgramData\\Anaconda3\\lib\\site-packages\\sklearn\\utils\\validation.py:526: DataConversionWarning: A column-vector y was passed when a 1d array was expected. Please change the shape of y to (n_samples, ), for example using ravel().\n",
      "  y = column_or_1d(y, warn=True)\n"
     ]
    },
    {
     "name": "stdout",
     "output_type": "stream",
     "text": [
      "########Ac 20 190 0.934044882321\n",
      "########F1 20 190 0.4\n"
     ]
    },
    {
     "name": "stderr",
     "output_type": "stream",
     "text": [
      "C:\\ProgramData\\Anaconda3\\lib\\site-packages\\sklearn\\utils\\validation.py:526: DataConversionWarning: A column-vector y was passed when a 1d array was expected. Please change the shape of y to (n_samples, ), for example using ravel().\n",
      "  y = column_or_1d(y, warn=True)\n"
     ]
    },
    {
     "name": "stdout",
     "output_type": "stream",
     "text": [
      "########Ac 20 210 0.934044882321\n",
      "########F1 20 210 0.4\n"
     ]
    },
    {
     "name": "stderr",
     "output_type": "stream",
     "text": [
      "C:\\ProgramData\\Anaconda3\\lib\\site-packages\\sklearn\\utils\\validation.py:526: DataConversionWarning: A column-vector y was passed when a 1d array was expected. Please change the shape of y to (n_samples, ), for example using ravel().\n",
      "  y = column_or_1d(y, warn=True)\n"
     ]
    },
    {
     "name": "stdout",
     "output_type": "stream",
     "text": [
      "########Ac 20 230 0.934044882321\n",
      "########F1 20 230 0.4\n"
     ]
    },
    {
     "name": "stderr",
     "output_type": "stream",
     "text": [
      "C:\\ProgramData\\Anaconda3\\lib\\site-packages\\sklearn\\utils\\validation.py:526: DataConversionWarning: A column-vector y was passed when a 1d array was expected. Please change the shape of y to (n_samples, ), for example using ravel().\n",
      "  y = column_or_1d(y, warn=True)\n"
     ]
    },
    {
     "name": "stdout",
     "output_type": "stream",
     "text": [
      "########Ac 30 10 0.932858967342\n",
      "########F1 30 10 0.41214057508\n"
     ]
    },
    {
     "name": "stderr",
     "output_type": "stream",
     "text": [
      "C:\\ProgramData\\Anaconda3\\lib\\site-packages\\sklearn\\utils\\validation.py:526: DataConversionWarning: A column-vector y was passed when a 1d array was expected. Please change the shape of y to (n_samples, ), for example using ravel().\n",
      "  y = column_or_1d(y, warn=True)\n"
     ]
    },
    {
     "name": "stdout",
     "output_type": "stream",
     "text": [
      "########Ac 30 30 0.935048348841\n",
      "########F1 30 30 0.405676126878\n"
     ]
    },
    {
     "name": "stderr",
     "output_type": "stream",
     "text": [
      "C:\\ProgramData\\Anaconda3\\lib\\site-packages\\sklearn\\utils\\validation.py:526: DataConversionWarning: A column-vector y was passed when a 1d array was expected. Please change the shape of y to (n_samples, ), for example using ravel().\n",
      "  y = column_or_1d(y, warn=True)\n"
     ]
    },
    {
     "name": "stdout",
     "output_type": "stream",
     "text": [
      "########Ac 30 50 0.935048348841\n",
      "########F1 30 50 0.404682274247\n"
     ]
    },
    {
     "name": "stderr",
     "output_type": "stream",
     "text": [
      "C:\\ProgramData\\Anaconda3\\lib\\site-packages\\sklearn\\utils\\validation.py:526: DataConversionWarning: A column-vector y was passed when a 1d array was expected. Please change the shape of y to (n_samples, ), for example using ravel().\n",
      "  y = column_or_1d(y, warn=True)\n"
     ]
    },
    {
     "name": "stdout",
     "output_type": "stream",
     "text": [
      "########Ac 30 70 0.934683451925\n",
      "########F1 30 70 0.404326123128\n"
     ]
    },
    {
     "name": "stderr",
     "output_type": "stream",
     "text": [
      "C:\\ProgramData\\Anaconda3\\lib\\site-packages\\sklearn\\utils\\validation.py:526: DataConversionWarning: A column-vector y was passed when a 1d array was expected. Please change the shape of y to (n_samples, ), for example using ravel().\n",
      "  y = column_or_1d(y, warn=True)\n"
     ]
    },
    {
     "name": "stdout",
     "output_type": "stream",
     "text": [
      "########Ac 30 90 0.935139573071\n",
      "########F1 30 90 0.405020920502\n"
     ]
    },
    {
     "name": "stderr",
     "output_type": "stream",
     "text": [
      "C:\\ProgramData\\Anaconda3\\lib\\site-packages\\sklearn\\utils\\validation.py:526: DataConversionWarning: A column-vector y was passed when a 1d array was expected. Please change the shape of y to (n_samples, ), for example using ravel().\n",
      "  y = column_or_1d(y, warn=True)\n"
     ]
    },
    {
     "name": "stdout",
     "output_type": "stream",
     "text": [
      "########Ac 30 110 0.933771209633\n",
      "########F1 30 110 0.40099009901\n"
     ]
    },
    {
     "name": "stderr",
     "output_type": "stream",
     "text": [
      "C:\\ProgramData\\Anaconda3\\lib\\site-packages\\sklearn\\utils\\validation.py:526: DataConversionWarning: A column-vector y was passed when a 1d array was expected. Please change the shape of y to (n_samples, ), for example using ravel().\n",
      "  y = column_or_1d(y, warn=True)\n"
     ]
    },
    {
     "name": "stdout",
     "output_type": "stream",
     "text": [
      "########Ac 30 130 0.934044882321\n",
      "########F1 30 130 0.400994200497\n"
     ]
    },
    {
     "name": "stderr",
     "output_type": "stream",
     "text": [
      "C:\\ProgramData\\Anaconda3\\lib\\site-packages\\sklearn\\utils\\validation.py:526: DataConversionWarning: A column-vector y was passed when a 1d array was expected. Please change the shape of y to (n_samples, ), for example using ravel().\n",
      "  y = column_or_1d(y, warn=True)\n"
     ]
    },
    {
     "name": "stdout",
     "output_type": "stream",
     "text": [
      "########Ac 30 150 0.933953658092\n",
      "########F1 30 150 0.400662251656\n"
     ]
    },
    {
     "name": "stderr",
     "output_type": "stream",
     "text": [
      "C:\\ProgramData\\Anaconda3\\lib\\site-packages\\sklearn\\utils\\validation.py:526: DataConversionWarning: A column-vector y was passed when a 1d array was expected. Please change the shape of y to (n_samples, ), for example using ravel().\n",
      "  y = column_or_1d(y, warn=True)\n"
     ]
    },
    {
     "name": "stdout",
     "output_type": "stream",
     "text": [
      "########Ac 30 170 0.934044882321\n",
      "########F1 30 170 0.400994200497\n"
     ]
    },
    {
     "name": "stderr",
     "output_type": "stream",
     "text": [
      "C:\\ProgramData\\Anaconda3\\lib\\site-packages\\sklearn\\utils\\validation.py:526: DataConversionWarning: A column-vector y was passed when a 1d array was expected. Please change the shape of y to (n_samples, ), for example using ravel().\n",
      "  y = column_or_1d(y, warn=True)\n"
     ]
    },
    {
     "name": "stdout",
     "output_type": "stream",
     "text": [
      "########Ac 30 190 0.934044882321\n",
      "########F1 30 190 0.4\n"
     ]
    },
    {
     "name": "stderr",
     "output_type": "stream",
     "text": [
      "C:\\ProgramData\\Anaconda3\\lib\\site-packages\\sklearn\\utils\\validation.py:526: DataConversionWarning: A column-vector y was passed when a 1d array was expected. Please change the shape of y to (n_samples, ), for example using ravel().\n",
      "  y = column_or_1d(y, warn=True)\n"
     ]
    },
    {
     "name": "stdout",
     "output_type": "stream",
     "text": [
      "########Ac 30 210 0.934044882321\n",
      "########F1 30 210 0.4\n"
     ]
    },
    {
     "name": "stderr",
     "output_type": "stream",
     "text": [
      "C:\\ProgramData\\Anaconda3\\lib\\site-packages\\sklearn\\utils\\validation.py:526: DataConversionWarning: A column-vector y was passed when a 1d array was expected. Please change the shape of y to (n_samples, ), for example using ravel().\n",
      "  y = column_or_1d(y, warn=True)\n"
     ]
    },
    {
     "name": "stdout",
     "output_type": "stream",
     "text": [
      "########Ac 30 230 0.934044882321\n",
      "########F1 30 230 0.399002493766\n"
     ]
    },
    {
     "name": "stderr",
     "output_type": "stream",
     "text": [
      "C:\\ProgramData\\Anaconda3\\lib\\site-packages\\sklearn\\utils\\validation.py:526: DataConversionWarning: A column-vector y was passed when a 1d array was expected. Please change the shape of y to (n_samples, ), for example using ravel().\n",
      "  y = column_or_1d(y, warn=True)\n"
     ]
    },
    {
     "name": "stdout",
     "output_type": "stream",
     "text": [
      "########Ac 40 10 0.932767743113\n",
      "########F1 40 10 0.415543219667\n"
     ]
    },
    {
     "name": "stderr",
     "output_type": "stream",
     "text": [
      "C:\\ProgramData\\Anaconda3\\lib\\site-packages\\sklearn\\utils\\validation.py:526: DataConversionWarning: A column-vector y was passed when a 1d array was expected. Please change the shape of y to (n_samples, ), for example using ravel().\n",
      "  y = column_or_1d(y, warn=True)\n"
     ]
    },
    {
     "name": "stdout",
     "output_type": "stream",
     "text": [
      "########Ac 40 30 0.934683451925\n",
      "########F1 40 30 0.403333333333\n"
     ]
    },
    {
     "name": "stderr",
     "output_type": "stream",
     "text": [
      "C:\\ProgramData\\Anaconda3\\lib\\site-packages\\sklearn\\utils\\validation.py:526: DataConversionWarning: A column-vector y was passed when a 1d array was expected. Please change the shape of y to (n_samples, ), for example using ravel().\n",
      "  y = column_or_1d(y, warn=True)\n"
     ]
    },
    {
     "name": "stdout",
     "output_type": "stream",
     "text": [
      "########Ac 40 50 0.934409779237\n",
      "########F1 40 50 0.403319502075\n"
     ]
    },
    {
     "name": "stderr",
     "output_type": "stream",
     "text": [
      "C:\\ProgramData\\Anaconda3\\lib\\site-packages\\sklearn\\utils\\validation.py:526: DataConversionWarning: A column-vector y was passed when a 1d array was expected. Please change the shape of y to (n_samples, ), for example using ravel().\n",
      "  y = column_or_1d(y, warn=True)\n"
     ]
    },
    {
     "name": "stdout",
     "output_type": "stream",
     "text": [
      "########Ac 40 70 0.934409779237\n",
      "########F1 40 70 0.402327514547\n"
     ]
    },
    {
     "name": "stderr",
     "output_type": "stream",
     "text": [
      "C:\\ProgramData\\Anaconda3\\lib\\site-packages\\sklearn\\utils\\validation.py:526: DataConversionWarning: A column-vector y was passed when a 1d array was expected. Please change the shape of y to (n_samples, ), for example using ravel().\n",
      "  y = column_or_1d(y, warn=True)\n"
     ]
    },
    {
     "name": "stdout",
     "output_type": "stream",
     "text": [
      "########Ac 40 90 0.934227330779\n",
      "########F1 40 90 0.400665004156\n"
     ]
    },
    {
     "name": "stderr",
     "output_type": "stream",
     "text": [
      "C:\\ProgramData\\Anaconda3\\lib\\site-packages\\sklearn\\utils\\validation.py:526: DataConversionWarning: A column-vector y was passed when a 1d array was expected. Please change the shape of y to (n_samples, ), for example using ravel().\n",
      "  y = column_or_1d(y, warn=True)\n"
     ]
    },
    {
     "name": "stdout",
     "output_type": "stream",
     "text": [
      "########Ac 40 110 0.934409779237\n",
      "########F1 40 110 0.409202958094\n"
     ]
    },
    {
     "name": "stderr",
     "output_type": "stream",
     "text": [
      "C:\\ProgramData\\Anaconda3\\lib\\site-packages\\sklearn\\utils\\validation.py:526: DataConversionWarning: A column-vector y was passed when a 1d array was expected. Please change the shape of y to (n_samples, ), for example using ravel().\n",
      "  y = column_or_1d(y, warn=True)\n"
     ]
    },
    {
     "name": "stdout",
     "output_type": "stream",
     "text": [
      "########Ac 40 130 0.93413610655\n",
      "########F1 40 130 0.401326699834\n"
     ]
    },
    {
     "name": "stderr",
     "output_type": "stream",
     "text": [
      "C:\\ProgramData\\Anaconda3\\lib\\site-packages\\sklearn\\utils\\validation.py:526: DataConversionWarning: A column-vector y was passed when a 1d array was expected. Please change the shape of y to (n_samples, ), for example using ravel().\n",
      "  y = column_or_1d(y, warn=True)\n"
     ]
    },
    {
     "name": "stdout",
     "output_type": "stream",
     "text": [
      "########Ac 40 150 0.93413610655\n",
      "########F1 40 150 0.402317880795\n"
     ]
    },
    {
     "name": "stderr",
     "output_type": "stream",
     "text": [
      "C:\\ProgramData\\Anaconda3\\lib\\site-packages\\sklearn\\utils\\validation.py:526: DataConversionWarning: A column-vector y was passed when a 1d array was expected. Please change the shape of y to (n_samples, ), for example using ravel().\n",
      "  y = column_or_1d(y, warn=True)\n"
     ]
    },
    {
     "name": "stdout",
     "output_type": "stream",
     "text": [
      "########Ac 40 170 0.93413610655\n",
      "########F1 40 170 0.401326699834\n"
     ]
    },
    {
     "name": "stderr",
     "output_type": "stream",
     "text": [
      "C:\\ProgramData\\Anaconda3\\lib\\site-packages\\sklearn\\utils\\validation.py:526: DataConversionWarning: A column-vector y was passed when a 1d array was expected. Please change the shape of y to (n_samples, ), for example using ravel().\n",
      "  y = column_or_1d(y, warn=True)\n"
     ]
    },
    {
     "name": "stdout",
     "output_type": "stream",
     "text": [
      "########Ac 40 190 0.933953658092\n",
      "########F1 40 190 0.398671096346\n"
     ]
    },
    {
     "name": "stderr",
     "output_type": "stream",
     "text": [
      "C:\\ProgramData\\Anaconda3\\lib\\site-packages\\sklearn\\utils\\validation.py:526: DataConversionWarning: A column-vector y was passed when a 1d array was expected. Please change the shape of y to (n_samples, ), for example using ravel().\n",
      "  y = column_or_1d(y, warn=True)\n"
     ]
    },
    {
     "name": "stdout",
     "output_type": "stream",
     "text": [
      "########Ac 40 210 0.934044882321\n",
      "########F1 40 210 0.4\n"
     ]
    },
    {
     "name": "stderr",
     "output_type": "stream",
     "text": [
      "C:\\ProgramData\\Anaconda3\\lib\\site-packages\\sklearn\\utils\\validation.py:526: DataConversionWarning: A column-vector y was passed when a 1d array was expected. Please change the shape of y to (n_samples, ), for example using ravel().\n",
      "  y = column_or_1d(y, warn=True)\n"
     ]
    },
    {
     "name": "stdout",
     "output_type": "stream",
     "text": [
      "########Ac 40 230 0.933953658092\n",
      "########F1 40 230 0.398671096346\n"
     ]
    },
    {
     "name": "stderr",
     "output_type": "stream",
     "text": [
      "C:\\ProgramData\\Anaconda3\\lib\\site-packages\\sklearn\\utils\\validation.py:526: DataConversionWarning: A column-vector y was passed when a 1d array was expected. Please change the shape of y to (n_samples, ), for example using ravel().\n",
      "  y = column_or_1d(y, warn=True)\n"
     ]
    },
    {
     "name": "stdout",
     "output_type": "stream",
     "text": [
      "########Ac 50 10 0.932311621967\n",
      "########F1 50 10 0.419405320814\n"
     ]
    },
    {
     "name": "stderr",
     "output_type": "stream",
     "text": [
      "C:\\ProgramData\\Anaconda3\\lib\\site-packages\\sklearn\\utils\\validation.py:526: DataConversionWarning: A column-vector y was passed when a 1d array was expected. Please change the shape of y to (n_samples, ), for example using ravel().\n",
      "  y = column_or_1d(y, warn=True)\n"
     ]
    },
    {
     "name": "stdout",
     "output_type": "stream",
     "text": [
      "########Ac 50 30 0.934227330779\n",
      "########F1 50 30 0.40658436214\n"
     ]
    },
    {
     "name": "stderr",
     "output_type": "stream",
     "text": [
      "C:\\ProgramData\\Anaconda3\\lib\\site-packages\\sklearn\\utils\\validation.py:526: DataConversionWarning: A column-vector y was passed when a 1d array was expected. Please change the shape of y to (n_samples, ), for example using ravel().\n",
      "  y = column_or_1d(y, warn=True)\n"
     ]
    },
    {
     "name": "stdout",
     "output_type": "stream",
     "text": [
      "########Ac 50 50 0.935048348841\n",
      "########F1 50 50 0.403685092127\n"
     ]
    },
    {
     "name": "stderr",
     "output_type": "stream",
     "text": [
      "C:\\ProgramData\\Anaconda3\\lib\\site-packages\\sklearn\\utils\\validation.py:526: DataConversionWarning: A column-vector y was passed when a 1d array was expected. Please change the shape of y to (n_samples, ), for example using ravel().\n",
      "  y = column_or_1d(y, warn=True)\n"
     ]
    },
    {
     "name": "stdout",
     "output_type": "stream",
     "text": [
      "########Ac 50 70 0.934044882321\n",
      "########F1 50 70 0.389873417722\n"
     ]
    },
    {
     "name": "stderr",
     "output_type": "stream",
     "text": [
      "C:\\ProgramData\\Anaconda3\\lib\\site-packages\\sklearn\\utils\\validation.py:526: DataConversionWarning: A column-vector y was passed when a 1d array was expected. Please change the shape of y to (n_samples, ), for example using ravel().\n",
      "  y = column_or_1d(y, warn=True)\n"
     ]
    },
    {
     "name": "stdout",
     "output_type": "stream",
     "text": [
      "########Ac 50 90 0.934683451925\n",
      "########F1 50 90 0.403333333333\n"
     ]
    },
    {
     "name": "stderr",
     "output_type": "stream",
     "text": [
      "C:\\ProgramData\\Anaconda3\\lib\\site-packages\\sklearn\\utils\\validation.py:526: DataConversionWarning: A column-vector y was passed when a 1d array was expected. Please change the shape of y to (n_samples, ), for example using ravel().\n",
      "  y = column_or_1d(y, warn=True)\n"
     ]
    },
    {
     "name": "stdout",
     "output_type": "stream",
     "text": [
      "########Ac 50 110 0.93413610655\n",
      "########F1 50 110 0.411092985318\n"
     ]
    },
    {
     "name": "stderr",
     "output_type": "stream",
     "text": [
      "C:\\ProgramData\\Anaconda3\\lib\\site-packages\\sklearn\\utils\\validation.py:526: DataConversionWarning: A column-vector y was passed when a 1d array was expected. Please change the shape of y to (n_samples, ), for example using ravel().\n",
      "  y = column_or_1d(y, warn=True)\n"
     ]
    },
    {
     "name": "stdout",
     "output_type": "stream",
     "text": [
      "########Ac 50 130 0.934044882321\n",
      "########F1 50 130 0.400994200497\n"
     ]
    },
    {
     "name": "stderr",
     "output_type": "stream",
     "text": [
      "C:\\ProgramData\\Anaconda3\\lib\\site-packages\\sklearn\\utils\\validation.py:526: DataConversionWarning: A column-vector y was passed when a 1d array was expected. Please change the shape of y to (n_samples, ), for example using ravel().\n",
      "  y = column_or_1d(y, warn=True)\n"
     ]
    },
    {
     "name": "stdout",
     "output_type": "stream",
     "text": [
      "########Ac 50 150 0.934044882321\n",
      "########F1 50 150 0.400994200497\n"
     ]
    },
    {
     "name": "stderr",
     "output_type": "stream",
     "text": [
      "C:\\ProgramData\\Anaconda3\\lib\\site-packages\\sklearn\\utils\\validation.py:526: DataConversionWarning: A column-vector y was passed when a 1d array was expected. Please change the shape of y to (n_samples, ), for example using ravel().\n",
      "  y = column_or_1d(y, warn=True)\n"
     ]
    },
    {
     "name": "stdout",
     "output_type": "stream",
     "text": [
      "########Ac 50 170 0.933953658092\n",
      "########F1 50 170 0.399668325041\n"
     ]
    },
    {
     "name": "stderr",
     "output_type": "stream",
     "text": [
      "C:\\ProgramData\\Anaconda3\\lib\\site-packages\\sklearn\\utils\\validation.py:526: DataConversionWarning: A column-vector y was passed when a 1d array was expected. Please change the shape of y to (n_samples, ), for example using ravel().\n",
      "  y = column_or_1d(y, warn=True)\n"
     ]
    },
    {
     "name": "stdout",
     "output_type": "stream",
     "text": [
      "########Ac 50 190 0.933953658092\n",
      "########F1 50 190 0.399668325041\n"
     ]
    },
    {
     "name": "stderr",
     "output_type": "stream",
     "text": [
      "C:\\ProgramData\\Anaconda3\\lib\\site-packages\\sklearn\\utils\\validation.py:526: DataConversionWarning: A column-vector y was passed when a 1d array was expected. Please change the shape of y to (n_samples, ), for example using ravel().\n",
      "  y = column_or_1d(y, warn=True)\n"
     ]
    },
    {
     "name": "stdout",
     "output_type": "stream",
     "text": [
      "########Ac 50 210 0.933771209633\n",
      "########F1 50 210 0.399006622517\n"
     ]
    },
    {
     "name": "stderr",
     "output_type": "stream",
     "text": [
      "C:\\ProgramData\\Anaconda3\\lib\\site-packages\\sklearn\\utils\\validation.py:526: DataConversionWarning: A column-vector y was passed when a 1d array was expected. Please change the shape of y to (n_samples, ), for example using ravel().\n",
      "  y = column_or_1d(y, warn=True)\n"
     ]
    },
    {
     "name": "stdout",
     "output_type": "stream",
     "text": [
      "########Ac 50 230 0.933953658092\n",
      "########F1 50 230 0.399668325041\n"
     ]
    },
    {
     "name": "stderr",
     "output_type": "stream",
     "text": [
      "C:\\ProgramData\\Anaconda3\\lib\\site-packages\\sklearn\\utils\\validation.py:526: DataConversionWarning: A column-vector y was passed when a 1d array was expected. Please change the shape of y to (n_samples, ), for example using ravel().\n",
      "  y = column_or_1d(y, warn=True)\n"
     ]
    },
    {
     "name": "stdout",
     "output_type": "stream",
     "text": [
      "########Ac 60 10 0.931581828134\n",
      "########F1 60 10 0.410377358491\n"
     ]
    },
    {
     "name": "stderr",
     "output_type": "stream",
     "text": [
      "C:\\ProgramData\\Anaconda3\\lib\\site-packages\\sklearn\\utils\\validation.py:526: DataConversionWarning: A column-vector y was passed when a 1d array was expected. Please change the shape of y to (n_samples, ), for example using ravel().\n",
      "  y = column_or_1d(y, warn=True)\n"
     ]
    },
    {
     "name": "stdout",
     "output_type": "stream",
     "text": [
      "########Ac 60 30 0.934501003467\n",
      "########F1 60 30 0.40464344942\n"
     ]
    },
    {
     "name": "stderr",
     "output_type": "stream",
     "text": [
      "C:\\ProgramData\\Anaconda3\\lib\\site-packages\\sklearn\\utils\\validation.py:526: DataConversionWarning: A column-vector y was passed when a 1d array was expected. Please change the shape of y to (n_samples, ), for example using ravel().\n",
      "  y = column_or_1d(y, warn=True)\n"
     ]
    },
    {
     "name": "stdout",
     "output_type": "stream",
     "text": [
      "########Ac 60 50 0.935048348841\n",
      "########F1 60 50 0.402684563758\n"
     ]
    },
    {
     "name": "stderr",
     "output_type": "stream",
     "text": [
      "C:\\ProgramData\\Anaconda3\\lib\\site-packages\\sklearn\\utils\\validation.py:526: DataConversionWarning: A column-vector y was passed when a 1d array was expected. Please change the shape of y to (n_samples, ), for example using ravel().\n",
      "  y = column_or_1d(y, warn=True)\n"
     ]
    },
    {
     "name": "stdout",
     "output_type": "stream",
     "text": [
      "########Ac 60 70 0.934683451925\n",
      "########F1 60 70 0.403333333333\n"
     ]
    },
    {
     "name": "stderr",
     "output_type": "stream",
     "text": [
      "C:\\ProgramData\\Anaconda3\\lib\\site-packages\\sklearn\\utils\\validation.py:526: DataConversionWarning: A column-vector y was passed when a 1d array was expected. Please change the shape of y to (n_samples, ), for example using ravel().\n",
      "  y = column_or_1d(y, warn=True)\n"
     ]
    },
    {
     "name": "stdout",
     "output_type": "stream",
     "text": [
      "########Ac 60 90 0.934501003467\n",
      "########F1 60 90 0.401666666667\n"
     ]
    },
    {
     "name": "stderr",
     "output_type": "stream",
     "text": [
      "C:\\ProgramData\\Anaconda3\\lib\\site-packages\\sklearn\\utils\\validation.py:526: DataConversionWarning: A column-vector y was passed when a 1d array was expected. Please change the shape of y to (n_samples, ), for example using ravel().\n",
      "  y = column_or_1d(y, warn=True)\n"
     ]
    },
    {
     "name": "stdout",
     "output_type": "stream",
     "text": [
      "########Ac 60 110 0.934044882321\n",
      "########F1 60 110 0.405916187346\n"
     ]
    },
    {
     "name": "stderr",
     "output_type": "stream",
     "text": [
      "C:\\ProgramData\\Anaconda3\\lib\\site-packages\\sklearn\\utils\\validation.py:526: DataConversionWarning: A column-vector y was passed when a 1d array was expected. Please change the shape of y to (n_samples, ), for example using ravel().\n",
      "  y = column_or_1d(y, warn=True)\n"
     ]
    },
    {
     "name": "stdout",
     "output_type": "stream",
     "text": [
      "########Ac 60 130 0.933953658092\n",
      "########F1 60 130 0.399668325041\n"
     ]
    },
    {
     "name": "stderr",
     "output_type": "stream",
     "text": [
      "C:\\ProgramData\\Anaconda3\\lib\\site-packages\\sklearn\\utils\\validation.py:526: DataConversionWarning: A column-vector y was passed when a 1d array was expected. Please change the shape of y to (n_samples, ), for example using ravel().\n",
      "  y = column_or_1d(y, warn=True)\n"
     ]
    },
    {
     "name": "stdout",
     "output_type": "stream",
     "text": [
      "########Ac 60 150 0.933953658092\n",
      "########F1 60 150 0.400662251656\n"
     ]
    },
    {
     "name": "stderr",
     "output_type": "stream",
     "text": [
      "C:\\ProgramData\\Anaconda3\\lib\\site-packages\\sklearn\\utils\\validation.py:526: DataConversionWarning: A column-vector y was passed when a 1d array was expected. Please change the shape of y to (n_samples, ), for example using ravel().\n",
      "  y = column_or_1d(y, warn=True)\n"
     ]
    },
    {
     "name": "stdout",
     "output_type": "stream",
     "text": [
      "########Ac 60 170 0.933771209633\n",
      "########F1 60 170 0.398009950249\n"
     ]
    },
    {
     "name": "stderr",
     "output_type": "stream",
     "text": [
      "C:\\ProgramData\\Anaconda3\\lib\\site-packages\\sklearn\\utils\\validation.py:526: DataConversionWarning: A column-vector y was passed when a 1d array was expected. Please change the shape of y to (n_samples, ), for example using ravel().\n",
      "  y = column_or_1d(y, warn=True)\n"
     ]
    },
    {
     "name": "stdout",
     "output_type": "stream",
     "text": [
      "########Ac 60 190 0.933953658092\n",
      "########F1 60 190 0.398671096346\n"
     ]
    },
    {
     "name": "stderr",
     "output_type": "stream",
     "text": [
      "C:\\ProgramData\\Anaconda3\\lib\\site-packages\\sklearn\\utils\\validation.py:526: DataConversionWarning: A column-vector y was passed when a 1d array was expected. Please change the shape of y to (n_samples, ), for example using ravel().\n",
      "  y = column_or_1d(y, warn=True)\n"
     ]
    },
    {
     "name": "stdout",
     "output_type": "stream",
     "text": [
      "########Ac 60 210 0.934044882321\n",
      "########F1 60 210 0.4\n"
     ]
    },
    {
     "name": "stderr",
     "output_type": "stream",
     "text": [
      "C:\\ProgramData\\Anaconda3\\lib\\site-packages\\sklearn\\utils\\validation.py:526: DataConversionWarning: A column-vector y was passed when a 1d array was expected. Please change the shape of y to (n_samples, ), for example using ravel().\n",
      "  y = column_or_1d(y, warn=True)\n"
     ]
    },
    {
     "name": "stdout",
     "output_type": "stream",
     "text": [
      "########Ac 60 230 0.93413610655\n",
      "########F1 60 230 0.401326699834\n"
     ]
    },
    {
     "name": "stderr",
     "output_type": "stream",
     "text": [
      "C:\\ProgramData\\Anaconda3\\lib\\site-packages\\sklearn\\utils\\validation.py:526: DataConversionWarning: A column-vector y was passed when a 1d array was expected. Please change the shape of y to (n_samples, ), for example using ravel().\n",
      "  y = column_or_1d(y, warn=True)\n"
     ]
    },
    {
     "name": "stdout",
     "output_type": "stream",
     "text": [
      "########Ac 70 10 0.931034482759\n",
      "########F1 70 10 0.396166134185\n"
     ]
    },
    {
     "name": "stderr",
     "output_type": "stream",
     "text": [
      "C:\\ProgramData\\Anaconda3\\lib\\site-packages\\sklearn\\utils\\validation.py:526: DataConversionWarning: A column-vector y was passed when a 1d array was expected. Please change the shape of y to (n_samples, ), for example using ravel().\n",
      "  y = column_or_1d(y, warn=True)\n"
     ]
    },
    {
     "name": "stdout",
     "output_type": "stream",
     "text": [
      "########Ac 70 30 0.933953658092\n",
      "########F1 70 30 0.403624382208\n"
     ]
    },
    {
     "name": "stderr",
     "output_type": "stream",
     "text": [
      "C:\\ProgramData\\Anaconda3\\lib\\site-packages\\sklearn\\utils\\validation.py:526: DataConversionWarning: A column-vector y was passed when a 1d array was expected. Please change the shape of y to (n_samples, ), for example using ravel().\n",
      "  y = column_or_1d(y, warn=True)\n"
     ]
    },
    {
     "name": "stdout",
     "output_type": "stream",
     "text": [
      "########Ac 70 50 0.934318555008\n",
      "########F1 70 50 0.402985074627\n"
     ]
    },
    {
     "name": "stderr",
     "output_type": "stream",
     "text": [
      "C:\\ProgramData\\Anaconda3\\lib\\site-packages\\sklearn\\utils\\validation.py:526: DataConversionWarning: A column-vector y was passed when a 1d array was expected. Please change the shape of y to (n_samples, ), for example using ravel().\n",
      "  y = column_or_1d(y, warn=True)\n"
     ]
    },
    {
     "name": "stdout",
     "output_type": "stream",
     "text": [
      "########Ac 70 70 0.935048348841\n",
      "########F1 70 70 0.403685092127\n"
     ]
    },
    {
     "name": "stderr",
     "output_type": "stream",
     "text": [
      "C:\\ProgramData\\Anaconda3\\lib\\site-packages\\sklearn\\utils\\validation.py:526: DataConversionWarning: A column-vector y was passed when a 1d array was expected. Please change the shape of y to (n_samples, ), for example using ravel().\n",
      "  y = column_or_1d(y, warn=True)\n"
     ]
    },
    {
     "name": "stdout",
     "output_type": "stream",
     "text": [
      "########Ac 70 90 0.933771209633\n",
      "########F1 70 90 0.388888888889\n"
     ]
    },
    {
     "name": "stderr",
     "output_type": "stream",
     "text": [
      "C:\\ProgramData\\Anaconda3\\lib\\site-packages\\sklearn\\utils\\validation.py:526: DataConversionWarning: A column-vector y was passed when a 1d array was expected. Please change the shape of y to (n_samples, ), for example using ravel().\n",
      "  y = column_or_1d(y, warn=True)\n"
     ]
    },
    {
     "name": "stdout",
     "output_type": "stream",
     "text": [
      "########Ac 70 110 0.934227330779\n",
      "########F1 70 110 0.40755957272\n"
     ]
    },
    {
     "name": "stderr",
     "output_type": "stream",
     "text": [
      "C:\\ProgramData\\Anaconda3\\lib\\site-packages\\sklearn\\utils\\validation.py:526: DataConversionWarning: A column-vector y was passed when a 1d array was expected. Please change the shape of y to (n_samples, ), for example using ravel().\n",
      "  y = column_or_1d(y, warn=True)\n"
     ]
    },
    {
     "name": "stdout",
     "output_type": "stream",
     "text": [
      "########Ac 70 130 0.933862433862\n",
      "########F1 70 130 0.400330851944\n"
     ]
    },
    {
     "name": "stderr",
     "output_type": "stream",
     "text": [
      "C:\\ProgramData\\Anaconda3\\lib\\site-packages\\sklearn\\utils\\validation.py:526: DataConversionWarning: A column-vector y was passed when a 1d array was expected. Please change the shape of y to (n_samples, ), for example using ravel().\n",
      "  y = column_or_1d(y, warn=True)\n"
     ]
    },
    {
     "name": "stdout",
     "output_type": "stream",
     "text": [
      "########Ac 70 150 0.934044882321\n",
      "########F1 70 150 0.400994200497\n"
     ]
    },
    {
     "name": "stderr",
     "output_type": "stream",
     "text": [
      "C:\\ProgramData\\Anaconda3\\lib\\site-packages\\sklearn\\utils\\validation.py:526: DataConversionWarning: A column-vector y was passed when a 1d array was expected. Please change the shape of y to (n_samples, ), for example using ravel().\n",
      "  y = column_or_1d(y, warn=True)\n"
     ]
    },
    {
     "name": "stdout",
     "output_type": "stream",
     "text": [
      "########Ac 70 170 0.933953658092\n",
      "########F1 70 170 0.399668325041\n"
     ]
    },
    {
     "name": "stderr",
     "output_type": "stream",
     "text": [
      "C:\\ProgramData\\Anaconda3\\lib\\site-packages\\sklearn\\utils\\validation.py:526: DataConversionWarning: A column-vector y was passed when a 1d array was expected. Please change the shape of y to (n_samples, ), for example using ravel().\n",
      "  y = column_or_1d(y, warn=True)\n"
     ]
    },
    {
     "name": "stdout",
     "output_type": "stream",
     "text": [
      "########Ac 70 190 0.934044882321\n",
      "########F1 70 190 0.4\n"
     ]
    },
    {
     "name": "stderr",
     "output_type": "stream",
     "text": [
      "C:\\ProgramData\\Anaconda3\\lib\\site-packages\\sklearn\\utils\\validation.py:526: DataConversionWarning: A column-vector y was passed when a 1d array was expected. Please change the shape of y to (n_samples, ), for example using ravel().\n",
      "  y = column_or_1d(y, warn=True)\n"
     ]
    },
    {
     "name": "stdout",
     "output_type": "stream",
     "text": [
      "########Ac 70 210 0.934044882321\n",
      "########F1 70 210 0.4\n"
     ]
    },
    {
     "name": "stderr",
     "output_type": "stream",
     "text": [
      "C:\\ProgramData\\Anaconda3\\lib\\site-packages\\sklearn\\utils\\validation.py:526: DataConversionWarning: A column-vector y was passed when a 1d array was expected. Please change the shape of y to (n_samples, ), for example using ravel().\n",
      "  y = column_or_1d(y, warn=True)\n"
     ]
    },
    {
     "name": "stdout",
     "output_type": "stream",
     "text": [
      "########Ac 70 230 0.934044882321\n",
      "########F1 70 230 0.4\n"
     ]
    },
    {
     "name": "stderr",
     "output_type": "stream",
     "text": [
      "C:\\ProgramData\\Anaconda3\\lib\\site-packages\\sklearn\\utils\\validation.py:526: DataConversionWarning: A column-vector y was passed when a 1d array was expected. Please change the shape of y to (n_samples, ), for example using ravel().\n",
      "  y = column_or_1d(y, warn=True)\n"
     ]
    },
    {
     "name": "stdout",
     "output_type": "stream",
     "text": [
      "########Ac 80 10 0.931764276592\n",
      "########F1 80 10 0.408227848101\n"
     ]
    },
    {
     "name": "stderr",
     "output_type": "stream",
     "text": [
      "C:\\ProgramData\\Anaconda3\\lib\\site-packages\\sklearn\\utils\\validation.py:526: DataConversionWarning: A column-vector y was passed when a 1d array was expected. Please change the shape of y to (n_samples, ), for example using ravel().\n",
      "  y = column_or_1d(y, warn=True)\n"
     ]
    },
    {
     "name": "stdout",
     "output_type": "stream",
     "text": [
      "########Ac 80 30 0.935504469987\n",
      "########F1 80 30 0.413278008299\n"
     ]
    },
    {
     "name": "stderr",
     "output_type": "stream",
     "text": [
      "C:\\ProgramData\\Anaconda3\\lib\\site-packages\\sklearn\\utils\\validation.py:526: DataConversionWarning: A column-vector y was passed when a 1d array was expected. Please change the shape of y to (n_samples, ), for example using ravel().\n",
      "  y = column_or_1d(y, warn=True)\n"
     ]
    },
    {
     "name": "stdout",
     "output_type": "stream",
     "text": [
      "########Ac 80 50 0.934865900383\n",
      "########F1 80 50 0.405990016639\n"
     ]
    },
    {
     "name": "stderr",
     "output_type": "stream",
     "text": [
      "C:\\ProgramData\\Anaconda3\\lib\\site-packages\\sklearn\\utils\\validation.py:526: DataConversionWarning: A column-vector y was passed when a 1d array was expected. Please change the shape of y to (n_samples, ), for example using ravel().\n",
      "  y = column_or_1d(y, warn=True)\n"
     ]
    },
    {
     "name": "stdout",
     "output_type": "stream",
     "text": [
      "########Ac 80 70 0.934501003467\n",
      "########F1 80 70 0.40365448505\n"
     ]
    },
    {
     "name": "stderr",
     "output_type": "stream",
     "text": [
      "C:\\ProgramData\\Anaconda3\\lib\\site-packages\\sklearn\\utils\\validation.py:526: DataConversionWarning: A column-vector y was passed when a 1d array was expected. Please change the shape of y to (n_samples, ), for example using ravel().\n",
      "  y = column_or_1d(y, warn=True)\n"
     ]
    },
    {
     "name": "stdout",
     "output_type": "stream",
     "text": [
      "########Ac 80 90 0.934683451925\n",
      "########F1 80 90 0.39932885906\n"
     ]
    },
    {
     "name": "stderr",
     "output_type": "stream",
     "text": [
      "C:\\ProgramData\\Anaconda3\\lib\\site-packages\\sklearn\\utils\\validation.py:526: DataConversionWarning: A column-vector y was passed when a 1d array was expected. Please change the shape of y to (n_samples, ), for example using ravel().\n",
      "  y = column_or_1d(y, warn=True)\n"
     ]
    },
    {
     "name": "stdout",
     "output_type": "stream",
     "text": [
      "########Ac 80 110 0.933771209633\n",
      "########F1 80 110 0.408794788274\n"
     ]
    },
    {
     "name": "stderr",
     "output_type": "stream",
     "text": [
      "C:\\ProgramData\\Anaconda3\\lib\\site-packages\\sklearn\\utils\\validation.py:526: DataConversionWarning: A column-vector y was passed when a 1d array was expected. Please change the shape of y to (n_samples, ), for example using ravel().\n",
      "  y = column_or_1d(y, warn=True)\n"
     ]
    },
    {
     "name": "stdout",
     "output_type": "stream",
     "text": [
      "########Ac 80 130 0.933953658092\n",
      "########F1 80 130 0.400662251656\n"
     ]
    },
    {
     "name": "stderr",
     "output_type": "stream",
     "text": [
      "C:\\ProgramData\\Anaconda3\\lib\\site-packages\\sklearn\\utils\\validation.py:526: DataConversionWarning: A column-vector y was passed when a 1d array was expected. Please change the shape of y to (n_samples, ), for example using ravel().\n",
      "  y = column_or_1d(y, warn=True)\n"
     ]
    },
    {
     "name": "stdout",
     "output_type": "stream",
     "text": [
      "########Ac 80 150 0.933953658092\n",
      "########F1 80 150 0.400662251656\n"
     ]
    },
    {
     "name": "stderr",
     "output_type": "stream",
     "text": [
      "C:\\ProgramData\\Anaconda3\\lib\\site-packages\\sklearn\\utils\\validation.py:526: DataConversionWarning: A column-vector y was passed when a 1d array was expected. Please change the shape of y to (n_samples, ), for example using ravel().\n",
      "  y = column_or_1d(y, warn=True)\n"
     ]
    },
    {
     "name": "stdout",
     "output_type": "stream",
     "text": [
      "########Ac 80 170 0.933953658092\n",
      "########F1 80 170 0.400662251656\n"
     ]
    },
    {
     "name": "stderr",
     "output_type": "stream",
     "text": [
      "C:\\ProgramData\\Anaconda3\\lib\\site-packages\\sklearn\\utils\\validation.py:526: DataConversionWarning: A column-vector y was passed when a 1d array was expected. Please change the shape of y to (n_samples, ), for example using ravel().\n",
      "  y = column_or_1d(y, warn=True)\n"
     ]
    },
    {
     "name": "stdout",
     "output_type": "stream",
     "text": [
      "########Ac 80 190 0.933953658092\n",
      "########F1 80 190 0.399668325041\n"
     ]
    },
    {
     "name": "stderr",
     "output_type": "stream",
     "text": [
      "C:\\ProgramData\\Anaconda3\\lib\\site-packages\\sklearn\\utils\\validation.py:526: DataConversionWarning: A column-vector y was passed when a 1d array was expected. Please change the shape of y to (n_samples, ), for example using ravel().\n",
      "  y = column_or_1d(y, warn=True)\n"
     ]
    },
    {
     "name": "stdout",
     "output_type": "stream",
     "text": [
      "########Ac 80 210 0.933953658092\n",
      "########F1 80 210 0.398671096346\n"
     ]
    },
    {
     "name": "stderr",
     "output_type": "stream",
     "text": [
      "C:\\ProgramData\\Anaconda3\\lib\\site-packages\\sklearn\\utils\\validation.py:526: DataConversionWarning: A column-vector y was passed when a 1d array was expected. Please change the shape of y to (n_samples, ), for example using ravel().\n",
      "  y = column_or_1d(y, warn=True)\n"
     ]
    },
    {
     "name": "stdout",
     "output_type": "stream",
     "text": [
      "########Ac 80 230 0.934044882321\n",
      "########F1 80 230 0.4\n"
     ]
    },
    {
     "name": "stderr",
     "output_type": "stream",
     "text": [
      "C:\\ProgramData\\Anaconda3\\lib\\site-packages\\sklearn\\utils\\validation.py:526: DataConversionWarning: A column-vector y was passed when a 1d array was expected. Please change the shape of y to (n_samples, ), for example using ravel().\n",
      "  y = column_or_1d(y, warn=True)\n"
     ]
    },
    {
     "name": "stdout",
     "output_type": "stream",
     "text": [
      "########Ac 90 10 0.930943258529\n",
      "########F1 90 10 0.402525651144\n"
     ]
    },
    {
     "name": "stderr",
     "output_type": "stream",
     "text": [
      "C:\\ProgramData\\Anaconda3\\lib\\site-packages\\sklearn\\utils\\validation.py:526: DataConversionWarning: A column-vector y was passed when a 1d array was expected. Please change the shape of y to (n_samples, ), for example using ravel().\n",
      "  y = column_or_1d(y, warn=True)\n"
     ]
    },
    {
     "name": "stdout",
     "output_type": "stream",
     "text": [
      "########Ac 90 30 0.935139573071\n",
      "########F1 90 30 0.405020920502\n"
     ]
    },
    {
     "name": "stderr",
     "output_type": "stream",
     "text": [
      "C:\\ProgramData\\Anaconda3\\lib\\site-packages\\sklearn\\utils\\validation.py:526: DataConversionWarning: A column-vector y was passed when a 1d array was expected. Please change the shape of y to (n_samples, ), for example using ravel().\n",
      "  y = column_or_1d(y, warn=True)\n"
     ]
    },
    {
     "name": "stdout",
     "output_type": "stream",
     "text": [
      "########Ac 90 50 0.935048348841\n",
      "########F1 90 50 0.405676126878\n"
     ]
    },
    {
     "name": "stderr",
     "output_type": "stream",
     "text": [
      "C:\\ProgramData\\Anaconda3\\lib\\site-packages\\sklearn\\utils\\validation.py:526: DataConversionWarning: A column-vector y was passed when a 1d array was expected. Please change the shape of y to (n_samples, ), for example using ravel().\n",
      "  y = column_or_1d(y, warn=True)\n"
     ]
    },
    {
     "name": "stdout",
     "output_type": "stream",
     "text": [
      "########Ac 90 70 0.934409779237\n",
      "########F1 90 70 0.402327514547\n"
     ]
    },
    {
     "name": "stderr",
     "output_type": "stream",
     "text": [
      "C:\\ProgramData\\Anaconda3\\lib\\site-packages\\sklearn\\utils\\validation.py:526: DataConversionWarning: A column-vector y was passed when a 1d array was expected. Please change the shape of y to (n_samples, ), for example using ravel().\n",
      "  y = column_or_1d(y, warn=True)\n"
     ]
    },
    {
     "name": "stdout",
     "output_type": "stream",
     "text": [
      "########Ac 90 90 0.934227330779\n",
      "########F1 90 90 0.399666944213\n"
     ]
    },
    {
     "name": "stderr",
     "output_type": "stream",
     "text": [
      "C:\\ProgramData\\Anaconda3\\lib\\site-packages\\sklearn\\utils\\validation.py:526: DataConversionWarning: A column-vector y was passed when a 1d array was expected. Please change the shape of y to (n_samples, ), for example using ravel().\n",
      "  y = column_or_1d(y, warn=True)\n"
     ]
    },
    {
     "name": "stdout",
     "output_type": "stream",
     "text": [
      "########Ac 90 110 0.934227330779\n",
      "########F1 90 110 0.385336743393\n"
     ]
    },
    {
     "name": "stderr",
     "output_type": "stream",
     "text": [
      "C:\\ProgramData\\Anaconda3\\lib\\site-packages\\sklearn\\utils\\validation.py:526: DataConversionWarning: A column-vector y was passed when a 1d array was expected. Please change the shape of y to (n_samples, ), for example using ravel().\n",
      "  y = column_or_1d(y, warn=True)\n"
     ]
    },
    {
     "name": "stdout",
     "output_type": "stream",
     "text": [
      "########Ac 90 130 0.934044882321\n",
      "########F1 90 130 0.400994200497\n"
     ]
    },
    {
     "name": "stderr",
     "output_type": "stream",
     "text": [
      "C:\\ProgramData\\Anaconda3\\lib\\site-packages\\sklearn\\utils\\validation.py:526: DataConversionWarning: A column-vector y was passed when a 1d array was expected. Please change the shape of y to (n_samples, ), for example using ravel().\n",
      "  y = column_or_1d(y, warn=True)\n"
     ]
    },
    {
     "name": "stdout",
     "output_type": "stream",
     "text": [
      "########Ac 90 150 0.933953658092\n",
      "########F1 90 150 0.400662251656\n"
     ]
    },
    {
     "name": "stderr",
     "output_type": "stream",
     "text": [
      "C:\\ProgramData\\Anaconda3\\lib\\site-packages\\sklearn\\utils\\validation.py:526: DataConversionWarning: A column-vector y was passed when a 1d array was expected. Please change the shape of y to (n_samples, ), for example using ravel().\n",
      "  y = column_or_1d(y, warn=True)\n"
     ]
    },
    {
     "name": "stdout",
     "output_type": "stream",
     "text": [
      "########Ac 90 170 0.933953658092\n",
      "########F1 90 170 0.398671096346\n"
     ]
    },
    {
     "name": "stderr",
     "output_type": "stream",
     "text": [
      "C:\\ProgramData\\Anaconda3\\lib\\site-packages\\sklearn\\utils\\validation.py:526: DataConversionWarning: A column-vector y was passed when a 1d array was expected. Please change the shape of y to (n_samples, ), for example using ravel().\n",
      "  y = column_or_1d(y, warn=True)\n"
     ]
    },
    {
     "name": "stdout",
     "output_type": "stream",
     "text": [
      "########Ac 90 190 0.933862433862\n",
      "########F1 90 190 0.398340248963\n"
     ]
    },
    {
     "name": "stderr",
     "output_type": "stream",
     "text": [
      "C:\\ProgramData\\Anaconda3\\lib\\site-packages\\sklearn\\utils\\validation.py:526: DataConversionWarning: A column-vector y was passed when a 1d array was expected. Please change the shape of y to (n_samples, ), for example using ravel().\n",
      "  y = column_or_1d(y, warn=True)\n"
     ]
    },
    {
     "name": "stdout",
     "output_type": "stream",
     "text": [
      "########Ac 90 210 0.933953658092\n",
      "########F1 90 210 0.399668325041\n"
     ]
    },
    {
     "name": "stderr",
     "output_type": "stream",
     "text": [
      "C:\\ProgramData\\Anaconda3\\lib\\site-packages\\sklearn\\utils\\validation.py:526: DataConversionWarning: A column-vector y was passed when a 1d array was expected. Please change the shape of y to (n_samples, ), for example using ravel().\n",
      "  y = column_or_1d(y, warn=True)\n"
     ]
    },
    {
     "name": "stdout",
     "output_type": "stream",
     "text": [
      "########Ac 90 230 0.934044882321\n",
      "########F1 90 230 0.4\n"
     ]
    }
   ],
   "source": [
    "for max_depth in [20,30,40,50,60,70,80,90]:\n",
    "    for min_samples_split in range(10,250,20) :\n",
    "        clf_tree=DecisionTreeClassifier(criterion='entropy', max_depth=max_depth, min_samples_split=min_samples_split)\n",
    "        bag_classifier = BaggingClassifier(base_estimator=clf_tree, n_estimators=20)\n",
    "        bag_classifier.fit(X_train, y_train)\n",
    "        bg_y_pred = bag_classifier.predict(X_test)\n",
    "        print(\"########Ac\",max_depth, min_samples_split,accuracy_score(y_test, bg_y_pred))\n",
    "        print(\"########F1\",max_depth, min_samples_split, f1_score(y_test, bg_y_pred))\n"
   ]
  }
 ],
 "metadata": {
  "kernelspec": {
   "display_name": "Python 3",
   "language": "python",
   "name": "python3"
  },
  "language_info": {
   "codemirror_mode": {
    "name": "ipython",
    "version": 3
   },
   "file_extension": ".py",
   "mimetype": "text/x-python",
   "name": "python",
   "nbconvert_exporter": "python",
   "pygments_lexer": "ipython3",
   "version": "3.6.0"
  }
 },
 "nbformat": 4,
 "nbformat_minor": 2
}
